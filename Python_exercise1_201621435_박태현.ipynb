{
 "cells": [
  {
   "cell_type": "markdown",
   "metadata": {},
   "source": [
    "\n",
    "<h1 id=\"파이썬-스타일-코드1---연습해보기\">파이썬 스타일 코드1 - 연습해보기<a class=\"anchor-link\" href=\"https://eclass2.ajou.ac.kr/bbcswebdav/pid-660606-dt-content-rid-9403729_1/courses/2020U00020032020084481/Python_exercise1.html#%ED%8C%8C%EC%9D%B4%EC%8D%AC-%EC%8A%A4%ED%83%80%EC%9D%BC-%EC%BD%94%EB%93%9C1---%EC%97%B0%EC%8A%B5%ED%95%B4%EB%B3%B4%EA%B8%B0\">¶</a></h1>\n"
   ]
  },
  {
   "cell_type": "markdown",
   "metadata": {},
   "source": [
    "\n",
    "<h1 id=\"일반문제\">일반문제<a class=\"anchor-link\" href=\"https://eclass2.ajou.ac.kr/bbcswebdav/pid-660606-dt-content-rid-9403729_1/courses/2020U00020032020084481/Python_exercise1.html#%EC%9D%BC%EB%B0%98%EB%AC%B8%EC%A0%9C\">¶</a></h1><hr/>\n"
   ]
  },
  {
   "cell_type": "markdown",
   "metadata": {},
   "source": [
    "\n",
    "<h2 id=\"1.-Css-Selector-수정\">1. Css Selector 수정<a class=\"anchor-link\" href=\"https://eclass2.ajou.ac.kr/bbcswebdav/pid-660606-dt-content-rid-9403729_1/courses/2020U00020032020084481/Python_exercise1.html#1.-Css-Selector-%EC%88%98%EC%A0%95\">¶</a></h2><p>Css Selector는 웹 페이지에서 특정 요소를 선택하기 위해 해당 요소까지 찾아갈 수 있도록 해주는 주소와 같은 것이다. 대부분의 웹브라우져에서 는 해당 요소에 대한 css selector 값을 쉽게 얻어올 수 있다 (F12 &gt; Select an Element). 다음과 같은 selector가 있다고 한다.</p>\n",
    "<div class=\"highlight\"><pre><span></span><span class=\"p\">#</span><span class=\"nn\">today_main_news</span> <span class=\"o\">&gt;</span> <span class=\"nt\">div</span><span class=\"p\">.</span><span class=\"nc\">hdline_news</span> <span class=\"o\">&gt;</span> <span class=\"nt\">ul</span> <span class=\"o\">&gt;</span> <span class=\"nt\">li</span><span class=\"p\">:</span><span class=\"nd\">nth-child</span><span class=\"o\">(</span><span class=\"nt\">1</span><span class=\"o\">)</span>\n",
    "</pre></div>\n",
    "<p>이러한 selector를 웹크롤링에서 사용하기 위해서는 <code>:nth-child</code>라는 부분을 제거하는 작업이 필요한데, 이를 자동화 해보자.</p>\n",
    "<blockquote><p><strong><em>Q</em></strong>: 해당 Selector를 문자열로 표시하고, <code>split</code>과 <code>join</code> 함수를 활용하여 다음 예시와 같은 selector를 출력하시오.</p>\n",
    "</blockquote>\n",
    "<h3 id=\"출력결과-예시\">출력결과 예시<a class=\"anchor-link\" href=\"https://eclass2.ajou.ac.kr/bbcswebdav/pid-660606-dt-content-rid-9403729_1/courses/2020U00020032020084481/Python_exercise1.html#%EC%B6%9C%EB%A0%A5%EA%B2%B0%EA%B3%BC-%EC%98%88%EC%8B%9C\">¶</a></h3><div class=\"highlight\"><pre><span></span><span class=\"n\">selector</span> <span class=\"o\">=</span> <span class=\"s2\">\"#today_main_news &gt; div.hdline_news &gt; ul &gt; li:nth-child(1)\"</span>\n",
    "\n",
    "\n",
    "<span class=\"c1\">## CODE</span>\n",
    "\n",
    "<span class=\"c1\">## '#today_main_news  &gt;  div.hdline_news  &gt;  ul  &gt;  li'</span>\n",
    "</pre></div>\n",
    "<h3 id=\"HINT\">HINT<a class=\"anchor-link\" href=\"https://eclass2.ajou.ac.kr/bbcswebdav/pid-660606-dt-content-rid-9403729_1/courses/2020U00020032020084481/Python_exercise1.html#HINT\">¶</a></h3><ol>\n",
    "<li>특정 구분자(seperator)를 통해 구분된 리스트를 만든다.</li>\n",
    "<li>구분된 리스트에서 해당 부분을 선택하고 1과는 다른 특정 구분자로 나눠준다.</li>\n",
    "<li>2의 리스트에서 필요한 부분만 선택하여 기존 리스트에 할당한다.</li>\n",
    "<li>구분자를 기준으로 리스트를 문자열로 합쳐준다. </li>\n",
    "</ol>\n"
   ]
  },
  {
   "cell_type": "code",
   "execution_count": 1,
   "metadata": {},
   "outputs": [
    {
     "data": {
      "text/plain": [
       "'#today_main_news  >  div.hdline_news  >  ul  >  li'"
      ]
     },
     "execution_count": 1,
     "metadata": {},
     "output_type": "execute_result"
    }
   ],
   "source": [
    "selector = \"#today_main_news > div.hdline_news > ul > li:nth-child(1)\" # \" \"의 값들을 Selector 변수에 할당\n",
    "\n",
    "selector_list = selector.split(\">\") # \">\"의 앞 뒤 문자열들을 자르고 리스트로 나타냄\n",
    "selector_list[-1] = selector_list[-1].split(\":\")[0] #맨 뒤에 있는 리스트 요소 li:nth-child(1)에서 :을 기준으로 다시 스플릿한다.\n",
    "\n",
    "\n",
    "\" > \".join(selector_list) #selector_list에 있는 요소들을 \">\"을 붙여주어 다시 합쳐준다."
   ]
  },
  {
   "cell_type": "markdown",
   "metadata": {},
   "source": [
    "\n",
    "<h2 id=\"2.-list-comprehension으로-만드는-구구단\">2. list comprehension으로 만드는 구구단<a class=\"anchor-link\" href=\"https://eclass2.ajou.ac.kr/bbcswebdav/pid-660606-dt-content-rid-9403729_1/courses/2020U00020032020084481/Python_exercise1.html#2.-list-comprehension%EC%9C%BC%EB%A1%9C-%EB%A7%8C%EB%93%9C%EB%8A%94-%EA%B5%AC%EA%B5%AC%EB%8B%A8\">¶</a></h2><p>PR5 문제 3번에서 만들었던 구구단 계산기를 list comprehension으로 구현해보고자 한다.</p>\n",
    "<blockquote><p><strong><em>Q</em></strong>: list comprehension을 사용하여 구구단을 연산하는 함수 <code>gugu_com</code>을 작성하고 구구단 <strong>7</strong>단을 출력하시오.</p>\n",
    "</blockquote>\n",
    "<h3 id=\"출력-결과-예시\">출력 결과 예시<a class=\"anchor-link\" href=\"https://eclass2.ajou.ac.kr/bbcswebdav/pid-660606-dt-content-rid-9403729_1/courses/2020U00020032020084481/Python_exercise1.html#%EC%B6%9C%EB%A0%A5-%EA%B2%B0%EA%B3%BC-%EC%98%88%EC%8B%9C\">¶</a></h3><div class=\"highlight\"><pre><span></span><span class=\"n\">gugu_com</span><span class=\"p\">(</span><span class=\"n\">x</span><span class=\"o\">=</span><span class=\"mi\">2</span><span class=\"p\">)</span>\n",
    "\n",
    "<span class=\"c1\"># 2  x  1 = 2</span>\n",
    "<span class=\"c1\"># 2  x  2 = 4</span>\n",
    "<span class=\"c1\"># 2  x  3 = 6</span>\n",
    "<span class=\"c1\"># 2  x  4 = 8</span>\n",
    "<span class=\"c1\"># 2  x  5 = 10</span>\n",
    "<span class=\"c1\"># 2  x  6 = 12</span>\n",
    "<span class=\"c1\"># 2  x  7 = 14</span>\n",
    "<span class=\"c1\"># 2  x  8 = 16</span>\n",
    "<span class=\"c1\"># 2  x  9 = 18</span>\n",
    "</pre></div>\n"
   ]
  },
  {
   "cell_type": "code",
   "execution_count": 11,
   "metadata": {},
   "outputs": [
    {
     "name": "stdout",
     "output_type": "stream",
     "text": [
      "1\n",
      "2\n",
      "3\n",
      "4\n",
      "5\n",
      "6\n",
      "7\n",
      "8\n",
      "9\n"
     ]
    }
   ],
   "source": [
    "for i in range(1, 10):\n",
    "    print(i)"
   ]
  },
  {
   "cell_type": "code",
   "execution_count": 7,
   "metadata": {},
   "outputs": [
    {
     "name": "stdout",
     "output_type": "stream",
     "text": [
      "7 x 1 = 7\n",
      "7 x 2 = 14\n",
      "7 x 3 = 21\n",
      "7 x 4 = 28\n",
      "7 x 5 = 35\n",
      "7 x 6 = 42\n",
      "7 x 7 = 49\n",
      "7 x 8 = 56\n",
      "7 x 9 = 63\n"
     ]
    }
   ],
   "source": [
    "def gugu_com(x):\n",
    "    [print(f\"{x} x {i} = {x*i}\") for i in range(1, 10)]\n",
    "# i는 1부터 9까지 반복되며 gugu_com은 인자를 한 개 받는다. \n",
    "#파이썬에서 for문은 range의 두 숫자중 끝숫자는 범위에 포함시키지 않는다. \n",
    "# f \"\" 를 쓰게 되면 문자열도 수학연산을 가능하게 해준다.\n",
    "# 따라서 'x'와 'i'의 곱셈을 띄울 수 있고\n",
    "# i는 1~9까지 이므로 gugu_com에 원하는 단수의 숫자를 넣으면 구구단이 출력된다.\n",
    "gugu_com(7)\n",
    "\n"
   ]
  },
  {
   "cell_type": "markdown",
   "metadata": {},
   "source": [
    "<h2 id=\"3.-두-주사위의-곱\">3. 두 주사위의 곱<a class=\"anchor-link\" href=\"https://eclass2.ajou.ac.kr/bbcswebdav/pid-660606-dt-content-rid-9403729_1/courses/2020U00020032020084481/Python_exercise1.html#3.-%EB%91%90-%EC%A3%BC%EC%82%AC%EC%9C%84%EC%9D%98-%EA%B3%B1\">¶</a></h2><p>두 주사위의 곱은 다음과 같은 결과를 가진다.</p>\n",
    "<table>\n",
    "<thead><tr>\n",
    "<th><code>x</code></th>\n",
    "<th>1</th>\n",
    "<th>2</th>\n",
    "<th>3</th>\n",
    "<th>4</th>\n",
    "<th>5</th>\n",
    "<th>6 </th>\n",
    "</tr>\n",
    "</thead>\n",
    "<tbody>\n",
    "<tr>\n",
    "<td>  1</td>\n",
    "<td>1</td>\n",
    "<td>2</td>\n",
    "<td>3</td>\n",
    "<td>4</td>\n",
    "<td>5</td>\n",
    "<td>6</td>\n",
    "</tr>\n",
    "<tr>\n",
    "<td>  2</td>\n",
    "<td>2</td>\n",
    "<td>4</td>\n",
    "<td>6</td>\n",
    "<td>8</td>\n",
    "<td>10</td>\n",
    "<td>12</td>\n",
    "</tr>\n",
    "<tr>\n",
    "<td>  3</td>\n",
    "<td>3</td>\n",
    "<td>6</td>\n",
    "<td>9</td>\n",
    "<td>12</td>\n",
    "<td>15</td>\n",
    "<td>18</td>\n",
    "</tr>\n",
    "<tr>\n",
    "<td>  4</td>\n",
    "<td>4</td>\n",
    "<td>8</td>\n",
    "<td>12</td>\n",
    "<td>16</td>\n",
    "<td>20</td>\n",
    "<td>24</td>\n",
    "</tr>\n",
    "<tr>\n",
    "<td>  5</td>\n",
    "<td>5</td>\n",
    "<td>10</td>\n",
    "<td>15</td>\n",
    "<td>20</td>\n",
    "<td>25</td>\n",
    "<td>30</td>\n",
    "</tr>\n",
    "<tr>\n",
    "<td>  6</td>\n",
    "<td>6</td>\n",
    "<td>12</td>\n",
    "<td>18</td>\n",
    "<td>24</td>\n",
    "<td>30</td>\n",
    "<td>36</td>\n",
    "</tr>\n",
    "</tbody>\n",
    "</table>\n",
    "<blockquote><p><strong><em>Q</em></strong>: list comprehension을 사용하여, 힌트를 제외하고는 <strong>한줄의 코드로</strong> 해당 결과를 가지는 이차원 리스트를 만드시오.</p>\n",
    "</blockquote>\n",
    "<h3 id=\"출력결과-예시\">출력결과 예시<a class=\"anchor-link\" href=\"https://eclass2.ajou.ac.kr/bbcswebdav/pid-660606-dt-content-rid-9403729_1/courses/2020U00020032020084481/Python_exercise1.html#%EC%B6%9C%EB%A0%A5%EA%B2%B0%EA%B3%BC-%EC%98%88%EC%8B%9C\">¶</a></h3><div class=\"highlight\"><pre><span></span><span class=\"c1\">## CODE</span>\n",
    "\n",
    "<span class=\"c1\">## [[1, 2, 3, 4, 5, 6],</span>\n",
    "<span class=\"c1\">##  [2, 4, 6, 8, 10, 12],</span>\n",
    "<span class=\"c1\">##  [3, 6, 9, 12, 15, 18],</span>\n",
    "<span class=\"c1\">##  [4, 8, 12, 16, 20, 24],</span>\n",
    "<span class=\"c1\">##  [5, 10, 15, 20, 25, 30],</span>\n",
    "<span class=\"c1\">##  [6, 12, 18, 24, 30, 36]]</span>\n",
    "</pre></div>\n",
    "<h3 id=\"HINT\">HINT<a class=\"anchor-link\" href=\"https://eclass2.ajou.ac.kr/bbcswebdav/pid-660606-dt-content-rid-9403729_1/courses/2020U00020032020084481/Python_exercise1.html#HINT\">¶</a></h3><ol>\n",
    "<li>한개의 주사위는 다음과 같이 표현할 수 있습니다.</li>\n",
    "</ol>\n",
    "<div class=\"highlight\"><pre><span></span><span class=\"n\">die</span> <span class=\"o\">=</span> <span class=\"p\">[</span><span class=\"n\">i</span> <span class=\"k\">for</span> <span class=\"n\">i</span> <span class=\"ow\">in</span> <span class=\"nb\">range</span><span class=\"p\">(</span><span class=\"mi\">1</span><span class=\"p\">,</span><span class=\"mi\">7</span><span class=\"p\">)]</span>\n",
    "</pre></div>\n"
   ]
  },
  {
   "cell_type": "code",
   "execution_count": 19,
   "metadata": {},
   "outputs": [
    {
     "data": {
      "text/plain": [
       "[1, 2, 3, 4, 5, 6]"
      ]
     },
     "execution_count": 19,
     "metadata": {},
     "output_type": "execute_result"
    }
   ],
   "source": [
    "die"
   ]
  },
  {
   "cell_type": "code",
   "execution_count": 21,
   "metadata": {},
   "outputs": [
    {
     "data": {
      "text/plain": [
       "[[1, 2, 3, 4, 5, 6],\n",
       " [2, 4, 6, 8, 10, 12],\n",
       " [3, 6, 9, 12, 15, 18],\n",
       " [4, 8, 12, 16, 20, 24],\n",
       " [5, 10, 15, 20, 25, 30],\n",
       " [6, 12, 18, 24, 30, 36]]"
      ]
     },
     "execution_count": 21,
     "metadata": {},
     "output_type": "execute_result"
    }
   ],
   "source": [
    "die = [i for i in range(1,7)] #위에서 설명한 것과 마찬가지로 i는 1~6의 숫자들이 포함된 \n",
    "#list를 생성한다.\n",
    "\n",
    "[[j*i for i in die] for j in die] #in에 die가 들어갔으므로 'j'는 \n",
    "#1부터 6까지 반복하는 것이고 'i'는 list의 각 요소들이 출력된다.\n",
    "#따라서 1부터 6까지의 값에 1, 2, 3, 4, 5, 6 각각의 값들을 하나씩 곱하여 \n",
    "#총 6개 요소가 있는 리스트를 6개를 만들고 맨 바깥쪽 대괄호가 있음으로\n",
    "#6개의 list를 이중 list로 만든다.\n",
    "\n"
   ]
  },
  {
   "cell_type": "markdown",
   "metadata": {},
   "source": [
    "\n",
    "<h2 id=\"4.-두-주사위의-합\">4. 두 주사위의 합<a class=\"anchor-link\" href=\"https://eclass2.ajou.ac.kr/bbcswebdav/pid-660606-dt-content-rid-9403729_1/courses/2020U00020032020084481/Python_exercise1.html#4.-%EB%91%90-%EC%A3%BC%EC%82%AC%EC%9C%84%EC%9D%98-%ED%95%A9\">¶</a></h2><p>간단한 테이블 형태의 데이터를 2차원 리스트로 표현해보자. 2개의 주사위를 굴리면 다음 표와 같이 36가지의 결과가 나온다.</p>\n",
    "<table>\n",
    "<thead><tr>\n",
    "<th><code>+</code></th>\n",
    "<th>1</th>\n",
    "<th>2</th>\n",
    "<th>3</th>\n",
    "<th>4</th>\n",
    "<th>5</th>\n",
    "<th>6 </th>\n",
    "</tr>\n",
    "</thead>\n",
    "<tbody>\n",
    "<tr>\n",
    "<td>  1</td>\n",
    "<td>2</td>\n",
    "<td>3</td>\n",
    "<td>4</td>\n",
    "<td>5</td>\n",
    "<td>6</td>\n",
    "<td>7</td>\n",
    "</tr>\n",
    "<tr>\n",
    "<td>  2</td>\n",
    "<td>3</td>\n",
    "<td>4</td>\n",
    "<td>5</td>\n",
    "<td>6</td>\n",
    "<td>7</td>\n",
    "<td>8</td>\n",
    "</tr>\n",
    "<tr>\n",
    "<td>  3</td>\n",
    "<td>4</td>\n",
    "<td>5</td>\n",
    "<td>6</td>\n",
    "<td>7</td>\n",
    "<td>8</td>\n",
    "<td>9</td>\n",
    "</tr>\n",
    "<tr>\n",
    "<td>  4</td>\n",
    "<td>5</td>\n",
    "<td>6</td>\n",
    "<td>7</td>\n",
    "<td>8</td>\n",
    "<td>9</td>\n",
    "<td>10</td>\n",
    "</tr>\n",
    "<tr>\n",
    "<td>  5</td>\n",
    "<td>6</td>\n",
    "<td>7</td>\n",
    "<td>8</td>\n",
    "<td>9</td>\n",
    "<td>10</td>\n",
    "<td>11</td>\n",
    "</tr>\n",
    "<tr>\n",
    "<td>  6</td>\n",
    "<td>7</td>\n",
    "<td>8</td>\n",
    "<td>9</td>\n",
    "<td>10</td>\n",
    "<td>11</td>\n",
    "<td>12</td>\n",
    "</tr>\n",
    "</tbody>\n",
    "</table>\n",
    "<blockquote><p><strong><em>Q</em></strong>: 이것을 6 x 6 크기의 2차원 리스트로 생성하고, 인덱싱을 통해 <code>2 + 6</code>의 값을 2가지 방법으로 나타내시오. (2차원 리스트 생성시 방법의 제한은 없습니다.)</p>\n",
    "</blockquote>\n"
   ]
  },
  {
   "cell_type": "code",
   "execution_count": 27,
   "metadata": {},
   "outputs": [
    {
     "name": "stdout",
     "output_type": "stream",
     "text": [
      "8\n",
      "8\n"
     ]
    }
   ],
   "source": [
    "\n",
    "dice_sum = [[2, 3, 4, 5, 6, 7],\n",
    "            [3, 4, 5, 6, 7, 8],\n",
    "            [4, 5, 6, 7, 8, 9],\n",
    "            [5, 6, 7, 8, 9, 10],\n",
    "            [6, 7, 8, 9, 10, 11],\n",
    "            [7, 8, 9, 10, 11, 12]] \n",
    "#2중 리스트로 위에 있는 글에 첨부된 사진에 있는 행들을 내부 list로\n",
    "#열들을 외부 list로 2중 list구조로 만들었다.\n",
    "\n",
    "print(dice_sum[1][5]) #2번째 행에 해당하는 list의 요소중 마지막 요소를 불러온다\n",
    "print(dice_sum[5][1]) #6번째 행에 해당하는 list의 요소중 두번째 요소를 불러온다\n",
    "#파이썬은 list를 0부터 체크하기 때문에 1이면 두번째 요소, 5이면 6번째 요소를 의미한다.\n",
    "\n",
    "\n"
   ]
  },
  {
   "cell_type": "code",
   "execution_count": 29,
   "metadata": {},
   "outputs": [
    {
     "name": "stdout",
     "output_type": "stream",
     "text": [
      "8\n",
      "8\n"
     ]
    }
   ],
   "source": [
    "\n",
    "die = [i for i in range(1,7)] #1부터 6까지의 list를 만든다.\n",
    "\n",
    "dice_sum = [[j+i for i in die] for j in die] #in에 die가 들어갔으므로 'j'는 \n",
    "#1부터 6까지 반복하는 것이고 'i'는 list의 각 요소들이 출력된다.\n",
    "#따라서 1부터 6까지의 값에 1, 2, 3, 4, 5, 6 각각의 값들을 하나씩 더하여 \n",
    "#총 6개 요소가 있는 리스트를 6개를 만들고 맨 바깥쪽 대괄호가 있음으로\n",
    "#6개의 list를 이중 list로 만든다.\n",
    "\n",
    "print(dice_sum[1][5])\n",
    "print(dice_sum[5][1])\n",
    "\n"
   ]
  },
  {
   "cell_type": "markdown",
   "metadata": {},
   "source": [
    "\n",
    "<h1 id=\"도전문제\">도전문제<a class=\"anchor-link\" href=\"https://eclass2.ajou.ac.kr/bbcswebdav/pid-660606-dt-content-rid-9403729_1/courses/2020U00020032020084481/Python_exercise1.html#%EB%8F%84%EC%A0%84%EB%AC%B8%EC%A0%9C\">¶</a></h1><hr/>\n"
   ]
  },
  {
   "cell_type": "markdown",
   "metadata": {},
   "source": [
    "\n",
    "<h2 id=\"표절-검사-프로그램\">표절 검사 프로그램<a class=\"anchor-link\" href=\"https://eclass2.ajou.ac.kr/bbcswebdav/pid-660606-dt-content-rid-9403729_1/courses/2020U00020032020084481/Python_exercise1.html#%ED%91%9C%EC%A0%88-%EA%B2%80%EC%82%AC-%ED%94%84%EB%A1%9C%EA%B7%B8%EB%9E%A8\">¶</a></h2><p><strong>강의노트 07 자료구조 collections 설명 참고</strong></p>\n",
    "<p>아주대학교 글로벌 경영학과의 한 교수님은 과제의 표절 검사를 쉽게 하기 위해 Python을 통한 간단한 표절 검사 프로그램을 작성해보고자 한다.</p>\n",
    "<p>현재 구상 중인 프로그램은 복잡한 알고리즘을 필요로하지 않고, 간단하게 단어 빈도를 기반으로 하여, 그 유사도를 측정하고자한다.</p>\n"
   ]
  },
  {
   "cell_type": "code",
   "execution_count": 62,
   "metadata": {},
   "outputs": [],
   "source": [
    "\n",
    "from collections import defaultdict, Counter\n",
    "#collections 모듈의 defaultdict, Counter 라이브러리를 불러온다.\n",
    "\n",
    "\n",
    "text = \"\"\"Python is a very simple programming language so even if you are new to programming, you can learn python without facing any issues.\"\"\"\n",
    "# \"\" \"\" 사이의 문자열들을 text에 입력한다.\n",
    "text2 = \"\"\"C is a very difficult programming language so even if you are good at programming, you can learn c with facing any issues.\"\"\"\n",
    "# \"\" \"\" 사이의 문자열들을 text2에 입력한다.\n",
    "text3 = \"\"\"R Programming is good at statistical analysis. you can learn easily\"\"\"\n",
    "# \"\" \"\" 사이의 문자열들을 text3에 입력한다.\n"
   ]
  },
  {
   "cell_type": "markdown",
   "metadata": {},
   "source": [
    "\n",
    "<h3 id=\"문제1\">문제1<a class=\"anchor-link\" href=\"https://eclass2.ajou.ac.kr/bbcswebdav/pid-660606-dt-content-rid-9403729_1/courses/2020U00020032020084481/Python_exercise1.html#%EB%AC%B8%EC%A0%9C1\">¶</a></h3><blockquote><p><strong><em>Q</em></strong>: <code>defaultdict</code>를 활용하여 text를 입력받으면 단어별 빈도를 측정하여 반환하는 함수 <code>word_counter</code>를 만드시오.</p>\n",
    "</blockquote>\n",
    "<h3 id=\"HINT\">HINT<a class=\"anchor-link\" href=\"https://eclass2.ajou.ac.kr/bbcswebdav/pid-660606-dt-content-rid-9403729_1/courses/2020U00020032020084481/Python_exercise1.html#HINT\">¶</a></h3><ol>\n",
    "<li><code>collections</code> 모듈의 <code>defaultdict</code>는 단순한 <code>dict</code>와 다르게, 인덱싱에서 key 값이 없으면 오류가 아닌 0을 기본 값으로 가지게 한다.</li>\n",
    "</ol>\n",
    "<div class=\"highlight\"><pre><span></span><span class=\"n\">word_dict</span> <span class=\"o\">=</span> <span class=\"nb\">dict</span><span class=\"p\">()</span>\n",
    "<span class=\"n\">word_dict</span><span class=\"p\">[</span><span class=\"s2\">\"key\"</span><span class=\"p\">]</span>\n",
    "\n",
    "<span class=\"c1\">## KeyError</span>\n",
    "\n",
    "<span class=\"n\">word_dict</span> <span class=\"o\">=</span> <span class=\"n\">defaultdict</span><span class=\"p\">(</span><span class=\"k\">lambda</span><span class=\"p\">:</span> <span class=\"mi\">0</span><span class=\"p\">)</span>\n",
    "<span class=\"n\">word_dict</span><span class=\"p\">[</span><span class=\"s2\">\"key\"</span><span class=\"p\">]</span> \n",
    "<span class=\"c1\">## 0</span>\n",
    "\n",
    "<span class=\"n\">word_dict</span><span class=\"p\">[</span><span class=\"s2\">\"key\"</span><span class=\"p\">]</span> <span class=\"o\">+=</span> <span class=\"mi\">1</span>\n",
    "<span class=\"n\">word_dict</span><span class=\"p\">[</span><span class=\"s2\">\"key\"</span><span class=\"p\">]</span>\n",
    "<span class=\"c1\">## 1</span>\n",
    "</pre></div>\n",
    "<ol>\n",
    "<li>유사도 측정을 위해 문장을 단어별로 분할해야하며, 편의를 위해 모두 소문자로 바꿔준다. <ul>\n",
    "<li><code>split</code></li>\n",
    "<li><code>lower</code></li>\n",
    "</ul>\n",
    "</li>\n",
    "</ol>\n"
   ]
  },
  {
   "cell_type": "code",
   "execution_count": 47,
   "metadata": {},
   "outputs": [],
   "source": [
    "\n",
    "def word_counter(text):\n",
    "    word_count = defaultdict(lambda: 0) #lambda 함수를 이용하여 딕셔너리의 value값 기본값을\n",
    "    #0으로 가진다.\n",
    "    for word in text.lower().split(): #text에 있는 문자들을 모두 소문자로 처리한 후 \n",
    "        #공백을 기준으로 나눠준다.\n",
    "        word_count[word] += 1\n",
    "        # '+='의 의미는 왼쪽 변수에 오른쪽 값을 더하고 결과를 왼쪽변수에 할당한다.\n",
    "        # 즉 스플릿된 단어들 key값으로 받고 첫번째로 나오면 1을 추가, 두번째로 나왔을 경우에는 \n",
    "        # 1이 한번 더 추가되므로 2가 되는 것이다. 이게 가능한 이유는 이 셀 두번째 줄에서 \n",
    "        # key값에 어떠한 지정이 없었음에도 0을 지정해주었기 때문에 for문 이하의 코드가 실행되었다.\n",
    "    \n",
    "\n",
    "    return word_count #함수의 결과값을 출력한다.\n",
    "\n"
   ]
  },
  {
   "cell_type": "code",
   "execution_count": 48,
   "metadata": {},
   "outputs": [
    {
     "data": {
      "text/plain": [
       "defaultdict(<function __main__.word_counter.<locals>.<lambda>()>,\n",
       "            {'python': 2,\n",
       "             'is': 1,\n",
       "             'a': 1,\n",
       "             'very': 1,\n",
       "             'simple': 1,\n",
       "             'programming': 1,\n",
       "             'language': 1,\n",
       "             'so': 1,\n",
       "             'even': 1,\n",
       "             'if': 1,\n",
       "             'you': 2,\n",
       "             'are': 1,\n",
       "             'new': 1,\n",
       "             'to': 1,\n",
       "             'programming,': 1,\n",
       "             'can': 1,\n",
       "             'learn': 1,\n",
       "             'without': 1,\n",
       "             'facing': 1,\n",
       "             'any': 1,\n",
       "             'issues.': 1})"
      ]
     },
     "execution_count": 48,
     "metadata": {},
     "output_type": "execute_result"
    }
   ],
   "source": [
    "\n",
    "word_counter(text) # 함수에 값을 입력한다.\n",
    "\n"
   ]
  },
  {
   "cell_type": "markdown",
   "metadata": {},
   "source": [
    "\n",
    "<h3 id=\"문제2\">문제2<a class=\"anchor-link\" href=\"https://eclass2.ajou.ac.kr/bbcswebdav/pid-660606-dt-content-rid-9403729_1/courses/2020U00020032020084481/Python_exercise1.html#%EB%AC%B8%EC%A0%9C2\">¶</a></h3><blockquote><p><strong><em>Q</em></strong>: 도전문제 1의 <code>word_counter</code> 활용하여 <code>text</code>와 <code>text2</code>의 유사도와 <code>text</code>와 <code>text3</code>의 유사도를 구하시오.</p>\n",
    "</blockquote>\n",
    "<h3 id=\"HINT\">HINT<a class=\"anchor-link\" href=\"https://eclass2.ajou.ac.kr/bbcswebdav/pid-660606-dt-content-rid-9403729_1/courses/2020U00020032020084481/Python_exercise1.html#HINT\">¶</a></h3><ol>\n",
    "<li><code>collections</code> 모듈의 <code>Counter</code>는 dict의 형태이지만 <code>Counter</code>들 간의 덧셈, 뺄셈 연산이 가능하며 <code>defaultdict</code>를 <code>Counter</code>로 변환할 수 있다.</li>\n",
    "</ol>\n",
    "<div class=\"highlight\"><pre><span></span><span class=\"n\">Counter</span><span class=\"p\">({</span><span class=\"s2\">\"a\"</span><span class=\"p\">:</span> <span class=\"mi\">1</span><span class=\"p\">,</span> <span class=\"s2\">\"b\"</span><span class=\"p\">:</span> <span class=\"mi\">2</span><span class=\"p\">,</span> <span class=\"s2\">\"c\"</span><span class=\"p\">:</span> <span class=\"mi\">3</span><span class=\"p\">})</span> <span class=\"o\">-</span> <span class=\"n\">Counter</span><span class=\"p\">({</span><span class=\"s2\">\"a\"</span><span class=\"p\">:</span> <span class=\"mi\">1</span><span class=\"p\">,</span> <span class=\"s2\">\"b\"</span><span class=\"p\">:</span> <span class=\"mi\">1</span><span class=\"p\">,</span> <span class=\"s2\">\"c\"</span><span class=\"p\">:</span> <span class=\"mi\">1</span><span class=\"p\">})</span> \n",
    "\n",
    "<span class=\"c1\">## Counter({'b': 1, 'c': 2})</span>\n",
    "</pre></div>\n",
    "<ol>\n",
    "<li>dictionary 형태의 모든 자료구조는 <code>.values()</code> 를 통해 value 값만 추출할 수 있다.</li>\n",
    "</ol>\n",
    "<div class=\"highlight\"><pre><span></span><span class=\"nb\">sum</span><span class=\"p\">(</span><span class=\"n\">Counter</span><span class=\"p\">({</span><span class=\"s2\">\"a\"</span><span class=\"p\">:</span> <span class=\"mi\">1</span><span class=\"p\">,</span> <span class=\"s2\">\"b\"</span><span class=\"p\">:</span> <span class=\"mi\">2</span><span class=\"p\">,</span> <span class=\"s2\">\"c\"</span><span class=\"p\">:</span> <span class=\"mi\">3</span><span class=\"p\">})</span><span class=\"o\">.</span><span class=\"n\">values</span><span class=\"p\">())</span> <span class=\"c1\"># 전체 단어수 합</span>\n",
    "\n",
    "<span class=\"c1\">## 6</span>\n",
    "</pre></div>\n",
    "<ol>\n",
    "<li><code>Counter(A)</code>가 <code>Counter(B)</code>와 얼마나 유사한지는 다음과 같은 공식을 따른다고 한다.(시그마는 해당 <code>Counter</code> dict 안의 value 값을 모두 합하라는 의미)  </li>\n",
    "</ol>\n",
    "<p><span class=\"MathJax_Preview\" style=\"color: inherit; display: none;\"></span></p><div class=\"MathJax_Display\" style=\"text-align: center;\"><span class=\"MathJax\" data-mathml='&lt;math xmlns=\"http://www.w3.org/1998/Math/MathML\" display=\"block\"&gt;&lt;mrow class=\"MJX-TeXAtom-ORD\"&gt;&lt;mo maxsize=\"2.047em\" minsize=\"2.047em\"&gt;(&lt;/mo&gt;&lt;/mrow&gt;&lt;mn&gt;1&lt;/mn&gt;&lt;mo&gt;&amp;#x2212;&lt;/mo&gt;&lt;mfrac&gt;&lt;mrow&gt;&lt;mpadded width=\"0\" height=\"8.6pt\" depth=\"3pt\"&gt;&lt;mrow /&gt;&lt;/mpadded&gt;&lt;mstyle displaystyle=\"false\" scriptlevel=\"0\"&gt;&lt;mrow class=\"MJX-TeXAtom-ORD\"&gt;&lt;mo&gt;&amp;#x2211;&lt;/mo&gt;&lt;mo stretchy=\"false\"&gt;(&lt;/mo&gt;&lt;mi&gt;C&lt;/mi&gt;&lt;mi&gt;o&lt;/mi&gt;&lt;mi&gt;u&lt;/mi&gt;&lt;mi&gt;n&lt;/mi&gt;&lt;mi&gt;t&lt;/mi&gt;&lt;mi&gt;e&lt;/mi&gt;&lt;mi&gt;r&lt;/mi&gt;&lt;mo stretchy=\"false\"&gt;(&lt;/mo&gt;&lt;mi&gt;A&lt;/mi&gt;&lt;mo stretchy=\"false\"&gt;)&lt;/mo&gt;&lt;mo&gt;&amp;#x2212;&lt;/mo&gt;&lt;mi&gt;C&lt;/mi&gt;&lt;mi&gt;o&lt;/mi&gt;&lt;mi&gt;u&lt;/mi&gt;&lt;mi&gt;n&lt;/mi&gt;&lt;mi&gt;t&lt;/mi&gt;&lt;mi&gt;e&lt;/mi&gt;&lt;mi&gt;r&lt;/mi&gt;&lt;mo stretchy=\"false\"&gt;(&lt;/mo&gt;&lt;mi&gt;B&lt;/mi&gt;&lt;mo stretchy=\"false\"&gt;)&lt;/mo&gt;&lt;mo stretchy=\"false\"&gt;)&lt;/mo&gt;&lt;/mrow&gt;&lt;/mstyle&gt;&lt;/mrow&gt;&lt;mrow&gt;&lt;mpadded width=\"0\" height=\"8.6pt\" depth=\"3pt\"&gt;&lt;mrow /&gt;&lt;/mpadded&gt;&lt;mstyle displaystyle=\"false\" scriptlevel=\"0\"&gt;&lt;mrow class=\"MJX-TeXAtom-ORD\"&gt;&lt;mo&gt;&amp;#x2211;&lt;/mo&gt;&lt;mi&gt;C&lt;/mi&gt;&lt;mi&gt;o&lt;/mi&gt;&lt;mi&gt;u&lt;/mi&gt;&lt;mi&gt;n&lt;/mi&gt;&lt;mi&gt;t&lt;/mi&gt;&lt;mi&gt;e&lt;/mi&gt;&lt;mi&gt;r&lt;/mi&gt;&lt;mo stretchy=\"false\"&gt;(&lt;/mo&gt;&lt;mi&gt;A&lt;/mi&gt;&lt;mo stretchy=\"false\"&gt;)&lt;/mo&gt;&lt;/mrow&gt;&lt;/mstyle&gt;&lt;/mrow&gt;&lt;/mfrac&gt;&lt;mrow class=\"MJX-TeXAtom-ORD\"&gt;&lt;mo maxsize=\"2.047em\" minsize=\"2.047em\"&gt;)&lt;/mo&gt;&lt;/mrow&gt;&lt;mo&gt;&amp;#x00D7;&lt;/mo&gt;&lt;mn&gt;100&lt;/mn&gt;&lt;/math&gt;' id=\"MathJax-Element-1-Frame\" role=\"presentation\" style=\"text-align: center; position: relative;\" tabindex=\"0\"><nobr aria-hidden=\"true\"><span class=\"math\" id=\"MathJax-Span-1\" style=\"width: 23.932em; display: inline-block;\"><span style=\"display: inline-block; position: relative; width: 19.943em; height: 0px; font-size: 120%;\"><span style=\"position: absolute; clip: rect(1.551em, 1019.88em, 4.705em, -999.997em); top: -3.39em; left: 0em;\"><span class=\"mrow\" id=\"MathJax-Span-2\"><span class=\"texatom\" id=\"MathJax-Span-3\" style=\"\"><span class=\"mrow\" id=\"MathJax-Span-4\"><span class=\"mo\" id=\"MathJax-Span-5\" style=\"vertical-align: 0em;\"><span style=\"font-family: MathJax_Size3;\">(</span></span></span></span><span class=\"mn\" id=\"MathJax-Span-6\" style=\"font-family: MathJax_Main;\">1</span><span class=\"mo\" id=\"MathJax-Span-7\" style=\"font-family: MathJax_Main; padding-left: 0.241em;\">−</span><span class=\"mfrac\" id=\"MathJax-Span-8\" style=\"padding-left: 0.241em;\"><span style=\"display: inline-block; position: relative; width: 13.693em; height: 0px; margin-right: 0.122em; margin-left: 0.122em;\"><span style=\"position: absolute; clip: rect(2.979em, 1013.46em, 4.467em, -999.997em); top: -4.759em; left: 50%; margin-left: -6.783em;\"><span class=\"mrow\" id=\"MathJax-Span-9\"><span class=\"mpadded\" id=\"MathJax-Span-10\"><span style=\"display: inline-block; position: relative; width: 0em; height: 0px;\"><span style=\"position: absolute; clip: rect(3.812em, 1000em, 4.17em, -999.997em); top: -3.985em; left: 0em;\"><span class=\"mrow\" id=\"MathJax-Span-11\"><span class=\"mrow\" id=\"MathJax-Span-12\"></span></span><span style=\"display: inline-block; width: 0px; height: 3.991em;\"></span></span></span></span><span class=\"mstyle\" id=\"MathJax-Span-13\"><span class=\"mrow\" id=\"MathJax-Span-14\"><span class=\"texatom\" id=\"MathJax-Span-15\"><span class=\"mrow\" id=\"MathJax-Span-16\"><span class=\"mo\" id=\"MathJax-Span-17\" style=\"font-family: MathJax_Size1; vertical-align: 0em;\">∑</span><span class=\"mo\" id=\"MathJax-Span-18\" style=\"font-family: MathJax_Main;\">(</span><span class=\"mi\" id=\"MathJax-Span-19\" style=\"font-family: MathJax_Math-italic;\">C<span style=\"display: inline-block; overflow: hidden; height: 1px; width: 0.063em;\"></span></span><span class=\"mi\" id=\"MathJax-Span-20\" style=\"font-family: MathJax_Math-italic;\">o</span><span class=\"mi\" id=\"MathJax-Span-21\" style=\"font-family: MathJax_Math-italic;\">u</span><span class=\"mi\" id=\"MathJax-Span-22\" style=\"font-family: MathJax_Math-italic;\">n</span><span class=\"mi\" id=\"MathJax-Span-23\" style=\"font-family: MathJax_Math-italic;\">t</span><span class=\"mi\" id=\"MathJax-Span-24\" style=\"font-family: MathJax_Math-italic;\">e</span><span class=\"mi\" id=\"MathJax-Span-25\" style=\"font-family: MathJax_Math-italic;\">r</span><span class=\"mo\" id=\"MathJax-Span-26\" style=\"font-family: MathJax_Main;\">(</span><span class=\"mi\" id=\"MathJax-Span-27\" style=\"font-family: MathJax_Math-italic;\">A</span><span class=\"mo\" id=\"MathJax-Span-28\" style=\"font-family: MathJax_Main;\">)</span><span class=\"mo\" id=\"MathJax-Span-29\" style=\"font-family: MathJax_Main; padding-left: 0.241em;\">−</span><span class=\"mi\" id=\"MathJax-Span-30\" style=\"font-family: MathJax_Math-italic; padding-left: 0.241em;\">C<span style=\"display: inline-block; overflow: hidden; height: 1px; width: 0.063em;\"></span></span><span class=\"mi\" id=\"MathJax-Span-31\" style=\"font-family: MathJax_Math-italic;\">o</span><span class=\"mi\" id=\"MathJax-Span-32\" style=\"font-family: MathJax_Math-italic;\">u</span><span class=\"mi\" id=\"MathJax-Span-33\" style=\"font-family: MathJax_Math-italic;\">n</span><span class=\"mi\" id=\"MathJax-Span-34\" style=\"font-family: MathJax_Math-italic;\">t</span><span class=\"mi\" id=\"MathJax-Span-35\" style=\"font-family: MathJax_Math-italic;\">e</span><span class=\"mi\" id=\"MathJax-Span-36\" style=\"font-family: MathJax_Math-italic;\">r</span><span class=\"mo\" id=\"MathJax-Span-37\" style=\"font-family: MathJax_Main;\">(</span><span class=\"mi\" id=\"MathJax-Span-38\" style=\"font-family: MathJax_Math-italic;\">B</span><span class=\"mo\" id=\"MathJax-Span-39\" style=\"font-family: MathJax_Main;\">)</span><span class=\"mo\" id=\"MathJax-Span-40\" style=\"font-family: MathJax_Main;\">)</span></span></span></span></span></span><span style=\"display: inline-block; width: 0px; height: 3.991em;\"></span></span><span style=\"position: absolute; clip: rect(2.979em, 1006.37em, 4.467em, -999.997em); top: -3.152em; left: 50%; margin-left: -3.211em;\"><span class=\"mrow\" id=\"MathJax-Span-41\"><span class=\"mpadded\" id=\"MathJax-Span-42\"><span style=\"display: inline-block; position: relative; width: 0em; height: 0px;\"><span style=\"position: absolute; clip: rect(3.812em, 1000em, 4.17em, -999.997em); top: -3.985em; left: 0em;\"><span class=\"mrow\" id=\"MathJax-Span-43\"><span class=\"mrow\" id=\"MathJax-Span-44\"></span></span><span style=\"display: inline-block; width: 0px; height: 3.991em;\"></span></span></span></span><span class=\"mstyle\" id=\"MathJax-Span-45\"><span class=\"mrow\" id=\"MathJax-Span-46\"><span class=\"texatom\" id=\"MathJax-Span-47\"><span class=\"mrow\" id=\"MathJax-Span-48\"><span class=\"mo\" id=\"MathJax-Span-49\" style=\"font-family: MathJax_Size1; vertical-align: 0em;\">∑</span><span class=\"mi\" id=\"MathJax-Span-50\" style=\"font-family: MathJax_Math-italic; padding-left: 0.182em;\">C<span style=\"display: inline-block; overflow: hidden; height: 1px; width: 0.063em;\"></span></span><span class=\"mi\" id=\"MathJax-Span-51\" style=\"font-family: MathJax_Math-italic;\">o</span><span class=\"mi\" id=\"MathJax-Span-52\" style=\"font-family: MathJax_Math-italic;\">u</span><span class=\"mi\" id=\"MathJax-Span-53\" style=\"font-family: MathJax_Math-italic;\">n</span><span class=\"mi\" id=\"MathJax-Span-54\" style=\"font-family: MathJax_Math-italic;\">t</span><span class=\"mi\" id=\"MathJax-Span-55\" style=\"font-family: MathJax_Math-italic;\">e</span><span class=\"mi\" id=\"MathJax-Span-56\" style=\"font-family: MathJax_Math-italic;\">r</span><span class=\"mo\" id=\"MathJax-Span-57\" style=\"font-family: MathJax_Main;\">(</span><span class=\"mi\" id=\"MathJax-Span-58\" style=\"font-family: MathJax_Math-italic;\">A</span><span class=\"mo\" id=\"MathJax-Span-59\" style=\"font-family: MathJax_Main;\">)</span></span></span></span></span></span><span style=\"display: inline-block; width: 0px; height: 3.991em;\"></span></span><span style=\"position: absolute; clip: rect(0.836em, 1013.69em, 1.253em, -999.997em); top: -1.307em; left: 0em;\"><span style=\"display: inline-block; overflow: hidden; vertical-align: 0em; border-top: 1.3px solid; width: 13.693em; height: 0px;\"></span><span style=\"display: inline-block; width: 0px; height: 1.074em;\"></span></span></span></span><span class=\"texatom\" id=\"MathJax-Span-60\" style=\"\"><span class=\"mrow\" id=\"MathJax-Span-61\"><span class=\"mo\" id=\"MathJax-Span-62\" style=\"vertical-align: 0em;\"><span style=\"font-family: MathJax_Size3;\">)</span></span></span></span><span class=\"mo\" id=\"MathJax-Span-63\" style=\"font-family: MathJax_Main; padding-left: 0.241em;\">×</span><span class=\"mn\" id=\"MathJax-Span-64\" style=\"font-family: MathJax_Main; padding-left: 0.241em;\">100</span></span><span style=\"display: inline-block; width: 0px; height: 3.396em;\"></span></span></span><span style=\"display: inline-block; overflow: hidden; vertical-align: -1.425em; border-left: 0px solid; width: 0px; height: 3.504em;\"></span></span></nobr><span class=\"MJX_Assistive_MathML MJX_Assistive_MathML_Block\" role=\"presentation\"><math display=\"block\" xmlns=\"http://www.w3.org/1998/Math/MathML\"><mrow class=\"MJX-TeXAtom-ORD\"><mo maxsize=\"2.047em\" minsize=\"2.047em\">(</mo></mrow><mn>1</mn><mo>−</mo><mfrac><mrow><mpadded depth=\"3pt\" height=\"8.6pt\" width=\"0\"><mrow></mrow></mpadded><mstyle displaystyle=\"false\" scriptlevel=\"0\"><mrow class=\"MJX-TeXAtom-ORD\"><mo>∑</mo><mo stretchy=\"false\">(</mo><mi>C</mi><mi>o</mi><mi>u</mi><mi>n</mi><mi>t</mi><mi>e</mi><mi>r</mi><mo stretchy=\"false\">(</mo><mi>A</mi><mo stretchy=\"false\">)</mo><mo>−</mo><mi>C</mi><mi>o</mi><mi>u</mi><mi>n</mi><mi>t</mi><mi>e</mi><mi>r</mi><mo stretchy=\"false\">(</mo><mi>B</mi><mo stretchy=\"false\">)</mo><mo stretchy=\"false\">)</mo></mrow></mstyle></mrow><mrow><mpadded depth=\"3pt\" height=\"8.6pt\" width=\"0\"><mrow></mrow></mpadded><mstyle displaystyle=\"false\" scriptlevel=\"0\"><mrow class=\"MJX-TeXAtom-ORD\"><mo>∑</mo><mi>C</mi><mi>o</mi><mi>u</mi><mi>n</mi><mi>t</mi><mi>e</mi><mi>r</mi><mo stretchy=\"false\">(</mo><mi>A</mi><mo stretchy=\"false\">)</mo></mrow></mstyle></mrow></mfrac><mrow class=\"MJX-TeXAtom-ORD\"><mo maxsize=\"2.047em\" minsize=\"2.047em\">)</mo></mrow><mo>×</mo><mn>100</mn></math></span></span></div><script id=\"MathJax-Element-1\" type=\"math/tex; mode=display\">\\bigg( 1 - \\cfrac{\\sum(Counter(A) - Counter(B))}{\\sum Counter(A)} \\bigg) \\times 100 </script>\n"
   ]
  },
  {
   "cell_type": "code",
   "execution_count": 59,
   "metadata": {},
   "outputs": [],
   "source": [
    "def text_similarity(text_count_1, text_count_2):\n",
    "    text1_count = Counter(text_count_1) # text를 defaultdict형태에서 value값들끼리 연산을 하기위해 Counter 형식으로 변환한다.\n",
    "    text2_count = Counter(text_count_2) # text2를 defaultdict형태에서 value값들끼리 연산을 하기위해 Counter 형식으로 변환한다.\n",
    "    \n",
    "    word_total = sum(text1_count.values()) #text1_count자리에 오는 인자들의 value값들을 모두 합한다.\n",
    "    word_diff = sum((text1_count - text2_count).values()) #text1_count자리에 오는 인자들의 value값들을 모두 합한다.\n",
    "    \n",
    "    return (1 - word_diff / word_total) * 100 #유사여부를 판단하는 공식에 대입하는데 위 공식에서 word_diff가 분자\n",
    "#word_total이 분모를 의미하고 '/'는 나눗셈을 의미한다. 나눈 값을 1에서 뺀 후 '*'는 곱하기를 의미하므로 100을 곱해준다.\n",
    "#따라서 위 공식과 동일한 식을 만들어준다.\n",
    "    \n",
    "\n"
   ]
  },
  {
   "cell_type": "code",
   "execution_count": 64,
   "metadata": {},
   "outputs": [
    {
     "data": {
      "text/plain": [
       "73.91304347826086"
      ]
     },
     "execution_count": 64,
     "metadata": {},
     "output_type": "execute_result"
    }
   ],
   "source": [
    "text_similarity(word_counter(text), word_counter(text2))\n",
    "#함수에 값을 입력한다.\n"
   ]
  },
  {
   "cell_type": "code",
   "execution_count": 63,
   "metadata": {},
   "outputs": [
    {
     "data": {
      "text/plain": [
       "21.739130434782606"
      ]
     },
     "execution_count": 63,
     "metadata": {},
     "output_type": "execute_result"
    }
   ],
   "source": [
    "text_similarity(word_counter(text), word_counter(text3))\n",
    "#함수에 값을 입력한다.\n"
   ]
  }
 ],
 "metadata": {
  "kernelspec": {
   "display_name": "Python 3",
   "language": "python",
   "name": "python3"
  },
  "language_info": {
   "codemirror_mode": {
    "name": "ipython",
    "version": 3
   },
   "file_extension": ".py",
   "mimetype": "text/x-python",
   "name": "python",
   "nbconvert_exporter": "python",
   "pygments_lexer": "ipython3",
   "version": "3.7.6"
  },
  "toc": {
   "base_numbering": 1,
   "nav_menu": {},
   "number_sections": false,
   "sideBar": true,
   "skip_h1_title": false,
   "title_cell": "Table of Contents",
   "title_sidebar": "Contents",
   "toc_cell": false,
   "toc_position": {
    "height": "calc(100% - 180px)",
    "left": "10px",
    "top": "150px",
    "width": "165px"
   },
   "toc_section_display": true,
   "toc_window_display": false
  },
  "varInspector": {
   "cols": {
    "lenName": 16,
    "lenType": 16,
    "lenVar": 40
   },
   "kernels_config": {
    "python": {
     "delete_cmd_postfix": "",
     "delete_cmd_prefix": "del ",
     "library": "var_list.py",
     "varRefreshCmd": "print(var_dic_list())"
    },
    "r": {
     "delete_cmd_postfix": ") ",
     "delete_cmd_prefix": "rm(",
     "library": "var_list.r",
     "varRefreshCmd": "cat(var_dic_list()) "
    }
   },
   "types_to_exclude": [
    "module",
    "function",
    "builtin_function_or_method",
    "instance",
    "_Feature"
   ],
   "window_display": false
  }
 },
 "nbformat": 4,
 "nbformat_minor": 1
}
