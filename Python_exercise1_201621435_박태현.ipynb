{
 "cells": [
  {
   "cell_type": "markdown",
   "metadata": {},
   "source": [
    "# 파이썬 스타일 코드1 - 연습해보기"
   ]
  },
  {
   "cell_type": "markdown",
   "metadata": {},
   "source": [
    "## 일반문제"
   ]
  },
  {
   "cell_type": "markdown",
   "metadata": {},
   "source": [
    "## 1. Css Selector 수정"
   ]
  },
  {
   "cell_type": "code",
   "execution_count": 1,
   "metadata": {},
   "outputs": [
    {
     "data": {
      "text/plain": [
       "'#today_main_news  >  div.hdline_news  >  ul  >  li'"
      ]
     },
     "execution_count": 1,
     "metadata": {},
     "output_type": "execute_result"
    }
   ],
   "source": [
    "selector = \"#today_main_news > div.hdline_news > ul > li:nth-child(1)\" # \" \"의 값들을 Selector 변수에 할당\n",
    "\n",
    "selector_list = selector.split(\">\") # \">\"의 앞 뒤 문자열들을 자르고 리스트로 나타냄\n",
    "selector_list[-1] = selector_list[-1].split(\":\")[0] #맨 뒤에 있는 리스트 요소 li:nth-child(1)에서 :을 기준으로 다시 스플릿한다.\n",
    "\n",
    "\n",
    "\" > \".join(selector_list) #selector_list에 있는 요소들을 \">\"을 붙여주어 다시 합쳐준다."
   ]
  },
  {
   "cell_type": "markdown",
   "metadata": {},
   "source": [
    "## 2. list comprehension으로 만드는 구구단"
   ]
  },
  {
   "cell_type": "code",
   "execution_count": 4,
   "metadata": {},
   "outputs": [
    {
     "name": "stdout",
     "output_type": "stream",
     "text": [
      "2 x 1 = 2\n",
      "2 x 2 = 4\n",
      "2 x 3 = 6\n",
      "2 x 4 = 8\n",
      "2 x 5 = 10\n",
      "2 x 6 = 12\n",
      "2 x 7 = 14\n",
      "2 x 8 = 16\n",
      "2 x 9 = 18\n"
     ]
    }
   ],
   "source": [
    "def gugu_com(x=2):\n",
    "    [print(f\"{x} x {i} = {x*i}\") for i in range(1, 10)]\n",
    "# i는 1부터 9까지 반복되며 gugu_com은 인자를 한 개 받는다. \n",
    "#파이썬에서 for문은 range의 두 숫자중 끝숫자는 범위에 포함시키지 않는다. \n",
    "# f \"\" 를 쓰게 되면 문자열도 수학연산을 가능하게 해준다.\n",
    "# 따라서 'x'와 'i'의 곱셈을 띄울 수 있고\n",
    "# i는 1~9까지 이므로 gugu_com에 원하는 단수의 숫자를 넣으면 구구단이 출력된다.\n",
    "gugu_com(2)\n",
    "\n"
   ]
  },
  {
   "cell_type": "markdown",
   "metadata": {},
   "source": [
    "## 3. 두 주사위의 곱"
   ]
  },
  {
   "cell_type": "code",
   "execution_count": null,
   "metadata": {},
   "outputs": [],
   "source": [
    "die = [i for i in range(1,7)] #위에서 설명한 것과 마찬가지로 i는 1~6의 숫자들이 포함된 \n",
    "#list를 생성한다.\n",
    "\n",
    "[[j*i for i in die] for j in die] #in에 die가 들어갔으므로 'j'는 \n",
    "#1부터 6까지 반복하는 것이고 'i'는 list의 각 요소들이 출력된다.\n",
    "#따라서 1부터 6까지의 값에 1, 2, 3, 4, 5, 6 각각의 값들을 하나씩 곱하여 \n",
    "#총 6개 요소가 있는 리스트를 6개를 만들고 맨 바깥쪽 대괄호가 있음으로\n",
    "#6개의 list를 이중 list로 만든다.\n"
   ]
  },
  {
   "cell_type": "markdown",
   "metadata": {},
   "source": [
    "## 4. 두 주사위의 합"
   ]
  },
  {
   "cell_type": "code",
   "execution_count": 5,
   "metadata": {},
   "outputs": [
    {
     "name": "stdout",
     "output_type": "stream",
     "text": [
      "8\n",
      "8\n"
     ]
    }
   ],
   "source": [
    "\n",
    "dice_sum = [[2, 3, 4, 5, 6, 7],\n",
    "            [3, 4, 5, 6, 7, 8],\n",
    "            [4, 5, 6, 7, 8, 9],\n",
    "            [5, 6, 7, 8, 9, 10],\n",
    "            [6, 7, 8, 9, 10, 11],\n",
    "            [7, 8, 9, 10, 11, 12]] \n",
    "#2중 리스트로 위에 있는 글에 첨부된 사진에 있는 행들을 내부 list로\n",
    "#열들을 외부 list로 2중 list구조로 만들었다.\n",
    "\n",
    "print(dice_sum[1][5]) #2번째 행에 해당하는 list의 요소중 마지막 요소를 불러온다\n",
    "print(dice_sum[5][1]) #6번째 행에 해당하는 list의 요소중 두번째 요소를 불러온다\n",
    "#파이썬은 list를 0부터 체크하기 때문에 1이면 두번째 요소, 5이면 6번째 요소를 의미한다.\n",
    "\n",
    "\n"
   ]
  },
  {
   "cell_type": "code",
   "execution_count": 6,
   "metadata": {},
   "outputs": [
    {
     "name": "stdout",
     "output_type": "stream",
     "text": [
      "8\n",
      "8\n"
     ]
    }
   ],
   "source": [
    "\n",
    "die = [i for i in range(1,7)] #1부터 6까지의 list를 만든다.\n",
    "\n",
    "dice_sum = [[j+i for i in die] for j in die] #in에 die가 들어갔으므로 'j'는 \n",
    "#1부터 6까지 반복하는 것이고 'i'는 list의 각 요소들이 출력된다.\n",
    "#따라서 1부터 6까지의 값에 1, 2, 3, 4, 5, 6 각각의 값들을 하나씩 더하여 \n",
    "#총 6개 요소가 있는 리스트를 6개를 만들고 맨 바깥쪽 대괄호가 있음으로\n",
    "#6개의 list를 이중 list로 만든다.\n",
    "\n",
    "print(dice_sum[1][5])\n",
    "print(dice_sum[5][1])\n",
    "\n"
   ]
  },
  {
   "cell_type": "markdown",
   "metadata": {},
   "source": [
    "# 도전문제\n",
    "### 표절 검사 프로그램\n",
    "**강의노트 07 자료구조 collections 설명 참고**\n",
    "\n",
    "아주대학교 글로벌 경영학과의 한 교수님은 과제의 표절 검사를 쉽게 하기 위해 Python을 통한 간단한 표절 검사 프로그램을 작성해보고자 한다.\n",
    "\n",
    "현재 구상 중인 프로그램은 복잡한 알고리즘을 필요로하지 않고, 간단하게 단어 빈도를 기반으로 하여, 그 유사도를 측정하고자한다.m"
   ]
  },
  {
   "cell_type": "code",
   "execution_count": 9,
   "metadata": {},
   "outputs": [],
   "source": [
    "\n",
    "from collections import defaultdict, Counter\n",
    "\n",
    "text = \"\"\"Python is a very simple programming language so even if you are new to programming, you can learn python without facing any issues.\"\"\"\n",
    "\n",
    "text2 = \"\"\"C is a very difficult programming language so even if you are good at programming, you can learn c with facing any issues.\"\"\"\n",
    "\n",
    "text3 = \"\"\"R Programming is good at statistical analysis. you can learn easily\"\"\"\n",
    "\n"
   ]
  },
  {
   "cell_type": "markdown",
   "metadata": {},
   "source": [
    "### 문제1\n",
    "Q: defaultdict를 활용하여 text를 입력받으면 단어별 빈도를 측정하여 반환하는 함수 word_counter를 만드시오."
   ]
  },
  {
   "cell_type": "code",
   "execution_count": 10,
   "metadata": {},
   "outputs": [],
   "source": [
    "\n",
    "def word_counter(text):\n",
    "    word_count = defaultdict(lambda: 0) #lambda 함수를 이용하여 딕셔너리의 value값 기본값을\n",
    "    #0으로 가진다.\n",
    "    for word in text.lower().split(): #text에 있는 문자들을 모두 소문자로 처리한 후 \n",
    "        #공백을 기준으로 나눠준다.\n",
    "        word_count[word] += 1\n",
    "        # '+='의 의미는 왼쪽 변수에 오른쪽 값을 더하고 결과를 왼쪽변수에 할당한다.\n",
    "        # 즉 스플릿된 단어들 key값으로 받고 첫번째로 나오면 1을 추가, 두번째로 나왔을 경우에는 \n",
    "        # 1이 한번 더 추가되므로 2가 되는 것이다. 이게 가능한 이유는 이 셀 두번째 줄에서 \n",
    "        # key값에 어떠한 지정이 없었음에도 0을 지정해주었기 때문에 for문 이하의 코드가 실행되었다.\n",
    "    \n",
    "\n",
    "    return word_count #함수의 결과값을 출력한다.\n",
    "\n"
   ]
  },
  {
   "cell_type": "code",
   "execution_count": 11,
   "metadata": {},
   "outputs": [
    {
     "data": {
      "text/plain": [
       "defaultdict(<function __main__.word_counter.<locals>.<lambda>()>,\n",
       "            {'python': 2,\n",
       "             'is': 1,\n",
       "             'a': 1,\n",
       "             'very': 1,\n",
       "             'simple': 1,\n",
       "             'programming': 1,\n",
       "             'language': 1,\n",
       "             'so': 1,\n",
       "             'even': 1,\n",
       "             'if': 1,\n",
       "             'you': 2,\n",
       "             'are': 1,\n",
       "             'new': 1,\n",
       "             'to': 1,\n",
       "             'programming,': 1,\n",
       "             'can': 1,\n",
       "             'learn': 1,\n",
       "             'without': 1,\n",
       "             'facing': 1,\n",
       "             'any': 1,\n",
       "             'issues.': 1})"
      ]
     },
     "execution_count": 11,
     "metadata": {},
     "output_type": "execute_result"
    }
   ],
   "source": [
    "word_counter(text)"
   ]
  },
  {
   "cell_type": "markdown",
   "metadata": {},
   "source": [
    "### 문제2\n",
    "Q: 도전문제 1의 word_counter 활용하여 text와 text2의 유사도와 text와 text3의 유사도를 구하시오."
   ]
  },
  {
   "cell_type": "code",
   "execution_count": 12,
   "metadata": {},
   "outputs": [],
   "source": [
    "def text_similarity(text_count_1, text_count_2):\n",
    "    text1_count = Counter(text_count_1) # text를 defaultdict형태에서 value값들끼리 연산을 하기위해 Counter 형식으로 변환한다.\n",
    "    text2_count = Counter(text_count_2) # text2를 defaultdict형태에서 value값들끼리 연산을 하기위해 Counter 형식으로 변환한다.\n",
    "    \n",
    "    word_total = sum(text1_count.values()) #text1_count자리에 오는 인자들의 value값들을 모두 합한다.\n",
    "    word_diff = sum((text1_count - text2_count).values()) #text1_count자리에 오는 인자들의 value값들을 모두 합한다.\n",
    "    \n",
    "    return (1 - word_diff / word_total) * 100 #유사여부를 판단하는 공식에 대입하는데 위 공식에서 word_diff가 분자\n",
    "#word_total이 분모를 의미하고 '/'는 나눗셈을 의미한다. 나눈 값을 1에서 뺀 후 '*'는 곱하기를 의미하므로 100을 곱해준다.\n",
    "#따라서 위 공식과 동일한 식을 만들어준다.\n",
    "    \n",
    "\n"
   ]
  },
  {
   "cell_type": "code",
   "execution_count": 13,
   "metadata": {},
   "outputs": [
    {
     "data": {
      "text/plain": [
       "73.91304347826086"
      ]
     },
     "execution_count": 13,
     "metadata": {},
     "output_type": "execute_result"
    }
   ],
   "source": [
    "text_similarity(word_counter(text), word_counter(text2))\n",
    "\n"
   ]
  },
  {
   "cell_type": "code",
   "execution_count": 14,
   "metadata": {},
   "outputs": [
    {
     "data": {
      "text/plain": [
       "21.739130434782606"
      ]
     },
     "execution_count": 14,
     "metadata": {},
     "output_type": "execute_result"
    }
   ],
   "source": [
    "text_similarity(word_counter(text), word_counter(text3))\n",
    "\n"
   ]
  }
 ],
 "metadata": {
  "kernelspec": {
   "display_name": "Python 3",
   "language": "python",
   "name": "python3"
  },
  "language_info": {
   "codemirror_mode": {
    "name": "ipython",
    "version": 3
   },
   "file_extension": ".py",
   "mimetype": "text/x-python",
   "name": "python",
   "nbconvert_exporter": "python",
   "pygments_lexer": "ipython3",
   "version": "3.7.6"
  },
  "toc": {
   "base_numbering": 1,
   "nav_menu": {},
   "number_sections": false,
   "sideBar": true,
   "skip_h1_title": false,
   "title_cell": "Table of Contents",
   "title_sidebar": "Contents",
   "toc_cell": false,
   "toc_position": {
    "height": "calc(100% - 180px)",
    "left": "10px",
    "top": "150px",
    "width": "165px"
   },
   "toc_section_display": true,
   "toc_window_display": true
  },
  "varInspector": {
   "cols": {
    "lenName": 16,
    "lenType": 16,
    "lenVar": 40
   },
   "kernels_config": {
    "python": {
     "delete_cmd_postfix": "",
     "delete_cmd_prefix": "del ",
     "library": "var_list.py",
     "varRefreshCmd": "print(var_dic_list())"
    },
    "r": {
     "delete_cmd_postfix": ") ",
     "delete_cmd_prefix": "rm(",
     "library": "var_list.r",
     "varRefreshCmd": "cat(var_dic_list()) "
    }
   },
   "types_to_exclude": [
    "module",
    "function",
    "builtin_function_or_method",
    "instance",
    "_Feature"
   ],
   "window_display": false
  }
 },
 "nbformat": 4,
 "nbformat_minor": 4
}
