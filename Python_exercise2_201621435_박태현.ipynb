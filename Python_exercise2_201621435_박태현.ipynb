{
 "cells": [
  {
   "cell_type": "markdown",
   "metadata": {},
   "source": [
    "\n",
    "<h1 id=\"파이썬-스타일-코드2---연습해보기\">파이썬 스타일 코드2 - 연습해보기<a class=\"anchor-link\" href=\"https://eclass2.ajou.ac.kr/bbcswebdav/pid-660606-dt-content-rid-9403730_1/courses/2020U00020032020084481/Python_exercise2.html#%ED%8C%8C%EC%9D%B4%EC%8D%AC-%EC%8A%A4%ED%83%80%EC%9D%BC-%EC%BD%94%EB%93%9C2---%EC%97%B0%EC%8A%B5%ED%95%B4%EB%B3%B4%EA%B8%B0\">¶</a></h1><p>--</p>\n"
   ]
  },
  {
   "cell_type": "markdown",
   "metadata": {},
   "source": [
    "\n",
    "<h1 id=\"실습코드\">실습코드<a class=\"anchor-link\" href=\"https://eclass2.ajou.ac.kr/bbcswebdav/pid-660606-dt-content-rid-9403730_1/courses/2020U00020032020084481/Python_exercise2.html#%EC%8B%A4%EC%8A%B5%EC%BD%94%EB%93%9C\">¶</a></h1><hr/>\n"
   ]
  },
  {
   "cell_type": "markdown",
   "metadata": {},
   "source": [
    "\n",
    "<h2 id=\"1.-람다함수\">1. 람다함수<a class=\"anchor-link\" href=\"https://eclass2.ajou.ac.kr/bbcswebdav/pid-660606-dt-content-rid-9403730_1/courses/2020U00020032020084481/Python_exercise2.html#1.-%EB%9E%8C%EB%8B%A4%ED%95%A8%EC%88%98\">¶</a></h2><ul>\n",
    "<li>람다(lambda) 함수는 함수의 이름 없이, 함수처럼 사용할 수 있는 익명의 함수를 말한다. 선형대수나 미적분 등의 과목을 수강하다 보면, 한 번쯤 람다 대수라는 표현을 들어 보았을 것이다. 람다 함수의 '람다'는 바로 이 람다 대수에서 유래하였다. 일반적으로 람다 함수는 이름을 지정하지 않아도 사용할 수 있다.</li>\n",
    "</ul>\n",
    "<h3 id=\"1.1.-기존-함수\">1.1. 기존 함수<a class=\"anchor-link\" href=\"https://eclass2.ajou.ac.kr/bbcswebdav/pid-660606-dt-content-rid-9403730_1/courses/2020U00020032020084481/Python_exercise2.html#1.1.-%EA%B8%B0%EC%A1%B4-%ED%95%A8%EC%88%98\">¶</a></h3>\n"
   ]
  },
  {
   "cell_type": "code",
   "execution_count": 1,
   "metadata": {},
   "outputs": [
    {
     "name": "stdout",
     "output_type": "stream",
     "text": [
      "5\n"
     ]
    }
   ],
   "source": [
    "\n",
    "def f(x,y): #'x'와 'y'를 인자로 갖는 f함수를 선언한다.\n",
    "    return x + y # 위 함수는 'x'와 'y'를 더한 값을 결과로 내보낸다.\n",
    "\n",
    "print(f(1,4)) #f 함수에 1과 4를 대입한 값을 프린트한다.\n",
    "\n"
   ]
  },
  {
   "cell_type": "markdown",
   "metadata": {},
   "source": [
    "\n",
    "<h3 id=\"1.2.-lambda-함수-할당\">1.2. lambda 함수 할당<a class=\"anchor-link\" href=\"https://eclass2.ajou.ac.kr/bbcswebdav/pid-660606-dt-content-rid-9403730_1/courses/2020U00020032020084481/Python_exercise2.html#1.2.-lambda-%ED%95%A8%EC%88%98-%ED%95%A0%EB%8B%B9\">¶</a></h3>\n"
   ]
  },
  {
   "cell_type": "code",
   "execution_count": 3,
   "metadata": {},
   "outputs": [
    {
     "name": "stdout",
     "output_type": "stream",
     "text": [
      "5\n"
     ]
    }
   ],
   "source": [
    "\n",
    "f=lambda x,y: x + y #위 셀에 있는 'def'와 'return'을 lambda 옆에 인자를 설정해주고 ':'표시 옆에 수식을 지정해줌으로써 한줄로 간단하게 표현한다.\n",
    "print(f(1,4)) #위와 마찬가지로 선언한 f함수에 1과 4를 대입한 값을 프린트한다.\n",
    "\n"
   ]
  },
  {
   "cell_type": "markdown",
   "metadata": {},
   "source": [
    "\n",
    "<h3 id=\"1.3.-익명의-lambda-함수\">1.3. 익명의 lambda 함수<a class=\"anchor-link\" href=\"https://eclass2.ajou.ac.kr/bbcswebdav/pid-660606-dt-content-rid-9403730_1/courses/2020U00020032020084481/Python_exercise2.html#1.3.-%EC%9D%B5%EB%AA%85%EC%9D%98-lambda-%ED%95%A8%EC%88%98\">¶</a></h3>\n"
   ]
  },
  {
   "cell_type": "code",
   "execution_count": 2,
   "metadata": {},
   "outputs": [
    {
     "name": "stdout",
     "output_type": "stream",
     "text": [
      "5\n"
     ]
    }
   ],
   "source": [
    "\n",
    "print((lambda x, y:x + y)(1, 4)) #lambda의 특징 중 하나는 따로 변수에 지정하지 않아도 사용이 가능하다. 이 경우 lambda를 선언한 후 옆에 인자들을 대입한 값을 출력한다.\n"
   ]
  },
  {
   "cell_type": "markdown",
   "metadata": {},
   "source": [
    "\n",
    "<h2 id=\"2.-맵리듀스\">2. 맵리듀스<a class=\"anchor-link\" href=\"https://eclass2.ajou.ac.kr/bbcswebdav/pid-660606-dt-content-rid-9403730_1/courses/2020U00020032020084481/Python_exercise2.html#2.-%EB%A7%B5%EB%A6%AC%EB%93%80%EC%8A%A4\">¶</a></h2><h3 id=\"2.1.-map-함수\">2.1. map 함수<a class=\"anchor-link\" href=\"https://eclass2.ajou.ac.kr/bbcswebdav/pid-660606-dt-content-rid-9403730_1/courses/2020U00020032020084481/Python_exercise2.html#2.1.-map-%ED%95%A8%EC%88%98\">¶</a></h3><p>연속 데이터를 저장하는 시퀀스 자료형에서 요소마다 같은 기능을 적용할 때 사용한다. 일반적으로 리스트나 튜플처럼 요소가 있는 시퀀스 자료형에 사용된다. 다음의 사용 예제를 보자.</p>\n"
   ]
  },
  {
   "cell_type": "code",
   "execution_count": 5,
   "metadata": {},
   "outputs": [
    {
     "name": "stdout",
     "output_type": "stream",
     "text": [
      "[1, 4, 9, 16, 25]\n"
     ]
    }
   ],
   "source": [
    "\n",
    "ex = [1,2,3,4,5] #1부터 5까지의 리스트를 만든다.\n",
    "f = lambda x:x**2 #인자를 제곱시키는 람다함수를 만든다.\n",
    "print(list(map(f, ex))) #map함수의 첫번째 인자를 두번째 인자에 대입하라는 의미이다. ex가 이미 list구조임에도 불구하고\n",
    "#list를 해준 이유는 map의 반환값이 제너레이터 값이기 때문에 그렇다.\n"
   ]
  },
  {
   "cell_type": "markdown",
   "metadata": {},
   "source": [
    "\n",
    "<ul>\n",
    "<li>코드 설명<ul>\n",
    "<li>위 코드에서는 먼저 ex라는 이름의 리스트를 만들고, 입력된 값을 제곱하는 람다함수 f를 생성하였다. 그리고 'map(함수이름, 리스트 데이터)'의 구조에서 map(f,ex) 코드를 실행한다. 이는 해당 코드로 함수 f를 ex의 각 요소에 매핑하라는 뜻이다.</li>\n",
    "<li>파이썬 2.x와 3.x의 차이는 제너레이터의 사용인데 3.x 부터는 map()함수의 기본 반환이 제너레이터이므로 list() 함수를 사용해야 리스트로 반환된다.</li>\n",
    "<li>제너레이터(generator)는 시퀀스 자료형의 데이터를 처리할 때, 실행 시점의 값을 생성하여 효율적으로 메모리를 관리할 수 있다는 장점이 있따.</li>\n",
    "<li>만일 list를 붙이지 않는다면, 다음 코드처럼 코딩할 수도 있다. 여기서 함수는 반드시 람다함수일 필요는 없고, 일반 함수를 만들어 사용해도 문제 없다.</li>\n",
    "</ul>\n",
    "</li>\n",
    "</ul>\n"
   ]
  },
  {
   "cell_type": "code",
   "execution_count": 9,
   "metadata": {},
   "outputs": [
    {
     "name": "stdout",
     "output_type": "stream",
     "text": [
      "1\n",
      "4\n",
      "9\n",
      "16\n",
      "25\n"
     ]
    }
   ],
   "source": [
    "\n",
    "ex=[1,2,3,4,5] #ex에 1부터 5까지의 리스트를 생성한다.\n",
    "f=lambda x:x**2 # 인자를 제곱하는 람다함수를 f에 선언한다.\n",
    "for value in map(f,ex): # in 뒤에 오는 숫자들은 각각 1, 4, 9 ,16 , 25이므로 해당 숫자들을 반복해서 출력하는 반복문이다. \n",
    "    print(value)\n",
    "\n"
   ]
  },
  {
   "cell_type": "markdown",
   "metadata": {},
   "source": [
    "\n",
    "<ul>\n",
    "<li>리스트 컴프리헨션과 비교</li>\n",
    "</ul>\n",
    "<p>최근에는 람다함수나 map() 함수를 프로그램 개발에 사용하는 것을 권장하지 않는다. 굳이 두 함수를 쓰지 않더라도 리스트 컴프리헨션 기법으로 얼마든지 같은 효과를 낼 수 있기 때문이다. 만약 위 코드를 리스트 컴프리헨션으로 변경하고자 한다면, 다음처럼 코딩하면 된다.</p>\n"
   ]
  },
  {
   "cell_type": "code",
   "execution_count": 10,
   "metadata": {},
   "outputs": [
    {
     "data": {
      "text/plain": [
       "[1, 4, 9, 16, 25]"
      ]
     },
     "execution_count": 10,
     "metadata": {},
     "output_type": "execute_result"
    }
   ],
   "source": [
    "\n",
    "ex = [1, 2, 3, 4, 5] #1부터 5까지의 리스트를 생성한다.\n",
    "[x**2 for x in ex] #ex에 있는 요소들을 반환한 x들을 제곱하여 리스트에 넣는 것으로 \n",
    "#List Comprehension은 쉽게 생각하면, 반복되거나 특정 조건을 만족하는 리스트를 보다 쉽게 만들어 내기 위한 방법이다.\n",
    "#컴프리헨션은 for문 말고도 조건문도 위 코드와 동일한 방법으로 실행할 수 있다.\n",
    "\n",
    "\n"
   ]
  },
  {
   "cell_type": "markdown",
   "metadata": {},
   "source": [
    "\n",
    "<ul>\n",
    "<li>한개 이상의 시퀀스 자료형 데이터의 처리</li>\n",
    "</ul>\n",
    "<p>map()함수는 2개 이상의 시퀀스 자료형 데이터를 처리하는 데도 문제가 없다.</p>\n"
   ]
  },
  {
   "cell_type": "code",
   "execution_count": 22,
   "metadata": {},
   "outputs": [
    {
     "data": {
      "text/plain": [
       "[2, 4, 6, 8, 10]"
      ]
     },
     "execution_count": 22,
     "metadata": {},
     "output_type": "execute_result"
    }
   ],
   "source": [
    "\n",
    "ex=[1,2,3,4,5] #ex 변수에 1부터 5까지의 수를 가진 리스트를 만든다.\n",
    "f=lambda x,y:x+y # 'x'와 'y'를 더하는 람다함수를 f에 선언한다.\n",
    "list(map(f,ex,ex)) #위에서 선언한 람다함수 f는 두 개의 인자를 요구하고 ex는 1부터 5까지의 시퀀스 자료형 데이터이므로 1부터 5까지 각각의 자리에 \n",
    "#있는 요소들끼리 더한 값들을 매핑한 후 list로 묶어 출력한다.\n"
   ]
  },
  {
   "cell_type": "code",
   "execution_count": 14,
   "metadata": {},
   "outputs": [
    {
     "data": {
      "text/plain": [
       "[2, 4, 6, 8, 10]"
      ]
     },
     "execution_count": 14,
     "metadata": {},
     "output_type": "execute_result"
    }
   ],
   "source": [
    "\n",
    "[x+y for x,y in zip(ex,ex)] # 리스트 컴프리헨션 용법을 사용한 것이다. zip 함수는 동일한 개수로 이뤄진 자료형들을 묶어주는 역할을 하고\n",
    "#각각 x와 y에 대입되어 다음과 같은 결과가 나타난다.\n",
    "\n"
   ]
  },
  {
   "cell_type": "markdown",
   "metadata": {},
   "source": [
    "\n",
    "<h2 id=\"2.2.-reduce-함수\">2.2. reduce 함수<a class=\"anchor-link\" href=\"https://eclass2.ajou.ac.kr/bbcswebdav/pid-660606-dt-content-rid-9403730_1/courses/2020U00020032020084481/Python_exercise2.html#2.2.-reduce-%ED%95%A8%EC%88%98\">¶</a></h2><ul>\n",
    "<li>map() 함수와 다르지만 형제처럼 사용하는 함수로 리스트와 같은 시쿼스 자료형에 차례대로 함수를 적용하여 모든 값을 통합하는 함수이다.</li>\n",
    "<li>lambda 함수와 함께 쓰여 좀 복잡해 보여 예전에는 많이 쓰였으나 최근 버전에서는 사용을 권장하지 않는다. 그러나 많은 코드들이 여전히 사용하고 있어 이해차원에서 배울 필요가 있다.</li>\n",
    "</ul>\n"
   ]
  },
  {
   "cell_type": "code",
   "execution_count": 23,
   "metadata": {},
   "outputs": [
    {
     "name": "stdout",
     "output_type": "stream",
     "text": [
      "15\n"
     ]
    }
   ],
   "source": [
    "\n",
    "from functools import reduce #functools 모듈에서 reduce라이브러리를 불러온다.\n",
    "print(reduce(lambda x,y:x+y, [1,2,3,4,5])) #reduce함수는 reduce(function, iterable[, initializer]을 갖는다.\n",
    "#여기서 initializer는 선택값이다. function부분에 람다함수를 설정하였고 literable부분에 1부터 5까지의 리스트가 전달되었다.\n",
    "#((((1+2)+3)+4)+5) 이런 구조로 덧셈을 해나가기 때문에 15가 나왔다.\n"
   ]
  },
  {
   "cell_type": "code",
   "execution_count": 25,
   "metadata": {},
   "outputs": [
    {
     "name": "stdout",
     "output_type": "stream",
     "text": [
      "15\n"
     ]
    }
   ],
   "source": [
    "\n",
    "x=0 #x에 0을 대입한다.\n",
    "for y in [1,2,3,4,5]: #1부터 5까지 y를 반복한다.\n",
    "    x += y #x에 y값을 더한 값을 x로 선언하고 for문을 반복한다.\n",
    "print(x) #위 셀과 같이 ((((1+2)+3)+4)+5) 이러한 구조로 15가 나오게 된다.\n",
    "\n"
   ]
  },
  {
   "cell_type": "markdown",
   "metadata": {},
   "source": [
    "\n",
    "<h2 id=\"3.-별표의-활용\">3. 별표의 활용<a class=\"anchor-link\" href=\"https://eclass2.ajou.ac.kr/bbcswebdav/pid-660606-dt-content-rid-9403730_1/courses/2020U00020032020084481/Python_exercise2.html#3.-%EB%B3%84%ED%91%9C%EC%9D%98-%ED%99%9C%EC%9A%A9\">¶</a></h2>\n"
   ]
  },
  {
   "cell_type": "markdown",
   "metadata": {},
   "source": [
    "\n",
    "<h3 id=\"3.1.-가변-인수로-활용\">3.1. 가변 인수로 활용<a class=\"anchor-link\" href=\"https://eclass2.ajou.ac.kr/bbcswebdav/pid-660606-dt-content-rid-9403730_1/courses/2020U00020032020084481/Python_exercise2.html#3.1.-%EA%B0%80%EB%B3%80-%EC%9D%B8%EC%88%98%EB%A1%9C-%ED%99%9C%EC%9A%A9\">¶</a></h3><ul>\n",
    "<li>가변 인수</li>\n",
    "</ul>\n"
   ]
  },
  {
   "cell_type": "code",
   "execution_count": 10,
   "metadata": {},
   "outputs": [
    {
     "name": "stdout",
     "output_type": "stream",
     "text": [
      "a (2,)\n",
      "<class 'tuple'>\n"
     ]
    }
   ],
   "source": [
    "asterisk_test('a',2)"
   ]
  },
  {
   "cell_type": "code",
   "execution_count": 5,
   "metadata": {},
   "outputs": [
    {
     "name": "stdout",
     "output_type": "stream",
     "text": [
      "1 (2, 3, 4, 5, 6)\n",
      "<class 'tuple'>\n"
     ]
    }
   ],
   "source": [
    "\n",
    "def asterisk_test(a, *args): #인자는 두개를 받는 함수같으나 '*args'인자는 가변인수로 입력받는 변수의 수가 따로 정해지지않는다.\n",
    "    #따라서 3개를 넣어도 되고 4개를 넣어도 된다. *args 자리에 입력받은 인자들은 모두 튜플로 받은 것 처럼 인식된다.\n",
    "    print(a,args) #따라서 이 함수는 입력받은 인자 a와 args에 입력된 여러개의 인자를 프린트하는 함수이다. \n",
    "    print(type(args)) #args의 유형을 나타낸다.\n",
    "asterisk_test(1,2,3,4,5,6) #1부터 6까지의 값을 함수에 대입한다.\n",
    "\n"
   ]
  },
  {
   "cell_type": "markdown",
   "metadata": {},
   "source": [
    "\n",
    "<ul>\n",
    "<li>키워드 가변 인수</li>\n",
    "</ul>\n"
   ]
  },
  {
   "cell_type": "code",
   "execution_count": 12,
   "metadata": {},
   "outputs": [
    {
     "name": "stdout",
     "output_type": "stream",
     "text": [
      "1 {'b': 2, 'c': 3, 'd': 4, 'e': 5, 'f': 6}\n",
      "<class 'dict'>\n"
     ]
    }
   ],
   "source": [
    "\n",
    "def asterisk_test(a,**kargs): #위와 마찬가지로 '**kargs'인자도 입력받는 변수의 수가 정해지지는 않았지만 딕셔너리 형태로 지정을 하기\n",
    "    #때문에 key값과 value값을 모두 지정해주어야 함수가 실행이 된다.\n",
    "    print(a,kargs) #a와 kagrs인자들을 프린트한다. \n",
    "    print(type(kargs)) #kargs의 유형을 프린트한다.\n",
    "asterisk_test(1,b=2,c=3,d=4,e=5,f=6) #인자를 넣어 함수를 실행한다.\n",
    "    \n"
   ]
  },
  {
   "cell_type": "markdown",
   "metadata": {},
   "source": [
    "\n",
    "<h3 id=\"3.2.-별표의-언패킹-기능\">3.2. 별표의 언패킹 기능<a class=\"anchor-link\" href=\"https://eclass2.ajou.ac.kr/bbcswebdav/pid-660606-dt-content-rid-9403730_1/courses/2020U00020032020084481/Python_exercise2.html#3.2.-%EB%B3%84%ED%91%9C%EC%9D%98-%EC%96%B8%ED%8C%A8%ED%82%B9-%EA%B8%B0%EB%8A%A5\">¶</a></h3><ul>\n",
    "<li>함수에서의 사용</li>\n",
    "</ul>\n"
   ]
  },
  {
   "cell_type": "code",
   "execution_count": 13,
   "metadata": {},
   "outputs": [
    {
     "name": "stdout",
     "output_type": "stream",
     "text": [
      "1 2 3 4 5 6\n",
      "<class 'tuple'>\n"
     ]
    }
   ],
   "source": [
    "\n",
    "def asterisk_test(a,args): #a와 args를 인자로 가지는 함수를 선언한다.\n",
    "    print(a,*args) # 프린트할 때 입력받은 인자들 앞에 *를 붙여주면 여러개를 포함하고 있는 하나의 개체를 풀어서 출력하게 된다.\n",
    "    print(type(args)) #프린트타입을 출력한다.\n",
    "asterisk_test(1,(2,3,4,5,6)) # 괄호안의 숫자들은 튜플인데 print내에서 *뒤에 붙었기 때문에 풀어서 출력하게 된다.\n",
    "\n"
   ]
  },
  {
   "cell_type": "code",
   "execution_count": 15,
   "metadata": {},
   "outputs": [
    {
     "name": "stdout",
     "output_type": "stream",
     "text": [
      "1 (2, 3, 4, 5, 6)\n",
      "<class 'tuple'>\n"
     ]
    }
   ],
   "source": [
    "\n",
    "def asterisk_test(a,args): #a와 args를 인자로 갖는 함수를 선언한다.\n",
    "    print(a,args) #a와 args 인자를 출력한다.\n",
    "    print(type(args)) #args의 유형을 출력한다.\n",
    "asterisk_test(1,(2,3,4,5,6)) # a 인자에 1을 args 인자에 2부터 6까지를 넣어 함수를 실행한다.\n",
    "\n"
   ]
  },
  {
   "cell_type": "markdown",
   "metadata": {},
   "source": [
    "\n",
    "<ul>\n",
    "<li>일반 자료형에서의 사용</li>\n",
    "</ul>\n"
   ]
  },
  {
   "cell_type": "code",
   "execution_count": 3,
   "metadata": {},
   "outputs": [
    {
     "name": "stdout",
     "output_type": "stream",
     "text": [
      "[1, 2] [3, 4] [5, 6]\n",
      "[1, 2] [3, 4] [5, 6]\n"
     ]
    }
   ],
   "source": [
    "\n",
    "a,b,c=([1,2], [3,4], [5,6]) #각각의 변수에 각기 다른 리스트들을 넣어준다. \n",
    "print(a,b,c) #한번에 출력해준다.\n",
    "data=([1,2], [3,4], [5,6]) # 괄호안에 리스트들을 data 변수에 넣어준다.\n",
    "print(*data) #리스트들을 한번에 출력한다.\n",
    "\n"
   ]
  },
  {
   "cell_type": "markdown",
   "metadata": {},
   "source": [
    "\n",
    "<ul>\n",
    "<li><code>zip</code> 함수와의 응용 </li>\n",
    "</ul>\n"
   ]
  },
  {
   "cell_type": "code",
   "execution_count": 1,
   "metadata": {},
   "outputs": [
    {
     "name": "stdout",
     "output_type": "stream",
     "text": [
      "(1, 3, 5)\n",
      "<class 'tuple'>\n",
      "(2, 4, 6)\n",
      "<class 'tuple'>\n"
     ]
    }
   ],
   "source": [
    "\n",
    "for data in zip(*[[1,2],[3,4],[5,6]]): #각 리스트의 값들에서 같은 자리의 요소들만 추출하여 튜플로 지정하고 for문을 실행한다.\n",
    "    print(data) #data를 출력한다.\n",
    "    print(type(data)) #data의 type을 출력한다.\n",
    "\n"
   ]
  },
  {
   "cell_type": "markdown",
   "metadata": {},
   "source": [
    "\n",
    "<ul>\n",
    "<li>키워드 가변 인수 응용</li>\n",
    "</ul>\n"
   ]
  },
  {
   "cell_type": "code",
   "execution_count": 14,
   "metadata": {},
   "outputs": [
    {
     "name": "stdout",
     "output_type": "stream",
     "text": [
      "10 1 2 3\n"
     ]
    }
   ],
   "source": [
    "\n",
    "def asterisk_test(a,b,c,d): #a부터 d까지 요소를 인자로 갖는 함수를 선언.\n",
    "    print(a,b,c,d) #인자들을 출력하는 함수이다.\n",
    "data={\"b\":1, \"c\":2, \"d\":3} #data에 딕셔너리 형태의 데이터들을 넣는다.\n",
    "asterisk_test(10, **data) #인자 10과 data 딕셔너리의 가변 인자들을 받는다.\n",
    "\n"
   ]
  },
  {
   "cell_type": "markdown",
   "metadata": {},
   "source": [
    "\n",
    "<h2 id=\"4.-선형대수학\">4. 선형대수학<a class=\"anchor-link\" href=\"https://eclass2.ajou.ac.kr/bbcswebdav/pid-660606-dt-content-rid-9403730_1/courses/2020U00020032020084481/Python_exercise2.html#4.-%EC%84%A0%ED%98%95%EB%8C%80%EC%88%98%ED%95%99\">¶</a></h2>\n"
   ]
  },
  {
   "cell_type": "markdown",
   "metadata": {},
   "source": [
    "\n",
    "<h3 id=\"4.1.-파이썬-스타일-코드로-표현한-벡터\">4.1. 파이썬 스타일 코드로 표현한 벡터<a class=\"anchor-link\" href=\"https://eclass2.ajou.ac.kr/bbcswebdav/pid-660606-dt-content-rid-9403730_1/courses/2020U00020032020084481/Python_exercise2.html#4.1.-%ED%8C%8C%EC%9D%B4%EC%8D%AC-%EC%8A%A4%ED%83%80%EC%9D%BC-%EC%BD%94%EB%93%9C%EB%A1%9C-%ED%91%9C%ED%98%84%ED%95%9C-%EB%B2%A1%ED%84%B0\">¶</a></h3>\n"
   ]
  },
  {
   "cell_type": "code",
   "execution_count": 15,
   "metadata": {},
   "outputs": [],
   "source": [
    "\n",
    "vector_a=[1,2,10]  # 리스트로 표현한 경우\n",
    "vector_b=(1,2,10)   # 튜플로 표현한 경우\n",
    "vector_c={'x':1, 'y':2, 'z':10}  # 딕셔너리로 표현한 경우\n",
    "\n"
   ]
  },
  {
   "cell_type": "markdown",
   "metadata": {},
   "source": [
    "\n",
    "<ul>\n",
    "<li>벡터의 연산: 벡터합</li>\n",
    "</ul>\n",
    "<p><span class=\"MathJax_Preview\" style=\"color: inherit; display: none;\"></span></p><div class=\"MathJax_Display\" style=\"text-align: center;\"><span class=\"MathJax\" data-mathml='&lt;math xmlns=\"http://www.w3.org/1998/Math/MathML\" display=\"block\"&gt;&lt;mo stretchy=\"false\"&gt;[&lt;/mo&gt;&lt;mn&gt;2&lt;/mn&gt;&lt;mo&gt;,&lt;/mo&gt;&lt;mn&gt;2&lt;/mn&gt;&lt;mo stretchy=\"false\"&gt;]&lt;/mo&gt;&lt;mo&gt;+&lt;/mo&gt;&lt;mo stretchy=\"false\"&gt;[&lt;/mo&gt;&lt;mn&gt;2&lt;/mn&gt;&lt;mo&gt;,&lt;/mo&gt;&lt;mn&gt;3&lt;/mn&gt;&lt;mo stretchy=\"false\"&gt;]&lt;/mo&gt;&lt;mo&gt;+&lt;/mo&gt;&lt;mo stretchy=\"false\"&gt;[&lt;/mo&gt;&lt;mn&gt;3&lt;/mn&gt;&lt;mo&gt;,&lt;/mo&gt;&lt;mn&gt;5&lt;/mn&gt;&lt;mo stretchy=\"false\"&gt;]&lt;/mo&gt;&lt;mo&gt;=&lt;/mo&gt;&lt;mo stretchy=\"false\"&gt;[&lt;/mo&gt;&lt;mn&gt;7&lt;/mn&gt;&lt;mo&gt;,&lt;/mo&gt;&lt;mn&gt;10&lt;/mn&gt;&lt;mo stretchy=\"false\"&gt;]&lt;/mo&gt;&lt;/math&gt;' id=\"MathJax-Element-1-Frame\" role=\"presentation\" style=\"text-align: center; position: relative;\" tabindex=\"0\"><nobr aria-hidden=\"true\"><span class=\"math\" id=\"MathJax-Span-1\" style=\"width: 15.003em; display: inline-block;\"><span style=\"display: inline-block; position: relative; width: 12.503em; height: 0px; font-size: 120%;\"><span style=\"position: absolute; clip: rect(1.253em, 1012.38em, 2.622em, -999.997em); top: -2.199em; left: 0em;\"><span class=\"mrow\" id=\"MathJax-Span-2\"><span class=\"mo\" id=\"MathJax-Span-3\" style=\"font-family: MathJax_Main;\">[</span><span class=\"mn\" id=\"MathJax-Span-4\" style=\"font-family: MathJax_Main;\">2</span><span class=\"mo\" id=\"MathJax-Span-5\" style=\"font-family: MathJax_Main;\">,</span><span class=\"mn\" id=\"MathJax-Span-6\" style=\"font-family: MathJax_Main; padding-left: 0.182em;\">2</span><span class=\"mo\" id=\"MathJax-Span-7\" style=\"font-family: MathJax_Main;\">]</span><span class=\"mo\" id=\"MathJax-Span-8\" style=\"font-family: MathJax_Main; padding-left: 0.241em;\">+</span><span class=\"mo\" id=\"MathJax-Span-9\" style=\"font-family: MathJax_Main; padding-left: 0.241em;\">[</span><span class=\"mn\" id=\"MathJax-Span-10\" style=\"font-family: MathJax_Main;\">2</span><span class=\"mo\" id=\"MathJax-Span-11\" style=\"font-family: MathJax_Main;\">,</span><span class=\"mn\" id=\"MathJax-Span-12\" style=\"font-family: MathJax_Main; padding-left: 0.182em;\">3</span><span class=\"mo\" id=\"MathJax-Span-13\" style=\"font-family: MathJax_Main;\">]</span><span class=\"mo\" id=\"MathJax-Span-14\" style=\"font-family: MathJax_Main; padding-left: 0.241em;\">+</span><span class=\"mo\" id=\"MathJax-Span-15\" style=\"font-family: MathJax_Main; padding-left: 0.241em;\">[</span><span class=\"mn\" id=\"MathJax-Span-16\" style=\"font-family: MathJax_Main;\">3</span><span class=\"mo\" id=\"MathJax-Span-17\" style=\"font-family: MathJax_Main;\">,</span><span class=\"mn\" id=\"MathJax-Span-18\" style=\"font-family: MathJax_Main; padding-left: 0.182em;\">5</span><span class=\"mo\" id=\"MathJax-Span-19\" style=\"font-family: MathJax_Main;\">]</span><span class=\"mo\" id=\"MathJax-Span-20\" style=\"font-family: MathJax_Main; padding-left: 0.301em;\">=</span><span class=\"mo\" id=\"MathJax-Span-21\" style=\"font-family: MathJax_Main; padding-left: 0.301em;\">[</span><span class=\"mn\" id=\"MathJax-Span-22\" style=\"font-family: MathJax_Main;\">7</span><span class=\"mo\" id=\"MathJax-Span-23\" style=\"font-family: MathJax_Main;\">,</span><span class=\"mn\" id=\"MathJax-Span-24\" style=\"font-family: MathJax_Main; padding-left: 0.182em;\">10</span><span class=\"mo\" id=\"MathJax-Span-25\" style=\"font-family: MathJax_Main;\">]</span></span><span style=\"display: inline-block; width: 0px; height: 2.205em;\"></span></span></span><span style=\"display: inline-block; overflow: hidden; vertical-align: -0.354em; border-left: 0px solid; width: 0px; height: 1.361em;\"></span></span></nobr><span class=\"MJX_Assistive_MathML MJX_Assistive_MathML_Block\" role=\"presentation\"><math display=\"block\" xmlns=\"http://www.w3.org/1998/Math/MathML\"><mo stretchy=\"false\">[</mo><mn>2</mn><mo>,</mo><mn>2</mn><mo stretchy=\"false\">]</mo><mo>+</mo><mo stretchy=\"false\">[</mo><mn>2</mn><mo>,</mo><mn>3</mn><mo stretchy=\"false\">]</mo><mo>+</mo><mo stretchy=\"false\">[</mo><mn>3</mn><mo>,</mo><mn>5</mn><mo stretchy=\"false\">]</mo><mo>=</mo><mo stretchy=\"false\">[</mo><mn>7</mn><mo>,</mo><mn>10</mn><mo stretchy=\"false\">]</mo></math></span></span></div><script id=\"MathJax-Element-1\" type=\"math/tex; mode=display\">[2,2]+[2,3]+[3,5]=[7,10]</script>\n"
   ]
  },
  {
   "cell_type": "code",
   "execution_count": 16,
   "metadata": {},
   "outputs": [
    {
     "name": "stdout",
     "output_type": "stream",
     "text": [
      "[7, 10]\n"
     ]
    }
   ],
   "source": [
    "\n",
    "u=[2,2] #변수에 리스트를 선언한다.\n",
    "v=[2,3] #변수에 리스트를 선언한다.\n",
    "z=[3,5] #변수에 리스트를 선언한다.\n",
    "result=[] #빈 리스트를 만든다.\n",
    "\n",
    "for i in range(len(u)): #u의 길이만큼 i를 반복하는 반복문 생성\n",
    "    result.append(u[i]+v[i]+z[i]) #i의 수에 해당하는 인자들 끼리 더하여 result 리스트에 삽입한다.\n",
    "print(result) #result를 출력한다.\n",
    "\n"
   ]
  },
  {
   "cell_type": "code",
   "execution_count": 20,
   "metadata": {},
   "outputs": [
    {
     "name": "stdout",
     "output_type": "stream",
     "text": [
      "[7, 10]\n"
     ]
    }
   ],
   "source": [
    "\n",
    "u=[2,2] #변수에 리스트를 선언한다.\n",
    "v=[2,3] #변수에 리스트를 선언한다.\n",
    "z=[3,5] #변수에 리스트를 선언한다.\n",
    "result=[sum(t) for t in zip(u,v,z)] #u, v, z의 리스트들의 같은 자리의 수 들을 t에 지정하고 그것들을 더한 것을 result에 삽입한다.\n",
    "print(result) #result를 출력한다.\n",
    "\n"
   ]
  },
  {
   "cell_type": "markdown",
   "metadata": {},
   "source": [
    "\n",
    "<ul>\n",
    "<li>별표를 사용한 함수화</li>\n",
    "</ul>\n"
   ]
  },
  {
   "cell_type": "code",
   "execution_count": 26,
   "metadata": {},
   "outputs": [
    {
     "data": {
      "text/plain": [
       "[7, 10]"
      ]
     },
     "execution_count": 26,
     "metadata": {},
     "output_type": "execute_result"
    }
   ],
   "source": [
    "\n",
    "def vector_addition(*args): #패킹을 하는 가변인수 '*'를 삽입한다.\n",
    "    return [sum(t) for t in zip(*args)]   # unpacking 통해 zip(u,v,z) 효과를 낼 수 있음. 리턴부분에 다시 한번 '*'를 삽입함으로서 언패킹된다.\n",
    "vector_addition(u,v,z) #위와 같이 u, v, z로 생각할 수 있다. 결과는 같다.\n",
    "\n"
   ]
  },
  {
   "cell_type": "markdown",
   "metadata": {},
   "source": [
    "\n",
    "<ul>\n",
    "<li>간단한 두벡터의 합</li>\n",
    "</ul>\n"
   ]
  },
  {
   "cell_type": "code",
   "execution_count": 30,
   "metadata": {},
   "outputs": [
    {
     "data": {
      "text/plain": [
       "[3, 3]"
      ]
     },
     "execution_count": 30,
     "metadata": {},
     "output_type": "execute_result"
    }
   ],
   "source": [
    "\n",
    "a = [1, 1] #리스트를 생성한다. \n",
    "b = [2, 2] #리스트를 생성한다.\n",
    "\n",
    "[x + y for x, y in zip(a, b)] #a와 b 리스트의 첫번째 요소들을 튜플로 지정하고 튜플의 각 자리에 x, y를 넣는다.\n",
    "#그리고 x와 y를 합한다\n",
    "\n"
   ]
  },
  {
   "cell_type": "markdown",
   "metadata": {},
   "source": [
    "\n",
    "<ul>\n",
    "<li>벡터의 연산: 스칼라곱</li>\n",
    "</ul>\n",
    "<p><span class=\"MathJax_Preview\" style=\"color: inherit; display: none;\"></span></p><div class=\"MathJax_Display\" style=\"text-align: center;\"><span class=\"MathJax\" data-mathml='&lt;math xmlns=\"http://www.w3.org/1998/Math/MathML\" display=\"block\"&gt;&lt;mn&gt;2&lt;/mn&gt;&lt;mo stretchy=\"false\"&gt;(&lt;/mo&gt;&lt;mo stretchy=\"false\"&gt;[&lt;/mo&gt;&lt;mn&gt;1&lt;/mn&gt;&lt;mo&gt;,&lt;/mo&gt;&lt;mn&gt;2&lt;/mn&gt;&lt;mo&gt;,&lt;/mo&gt;&lt;mn&gt;3&lt;/mn&gt;&lt;mo stretchy=\"false\"&gt;]&lt;/mo&gt;&lt;mo&gt;+&lt;/mo&gt;&lt;mo stretchy=\"false\"&gt;[&lt;/mo&gt;&lt;mn&gt;4&lt;/mn&gt;&lt;mo&gt;,&lt;/mo&gt;&lt;mn&gt;4&lt;/mn&gt;&lt;mo&gt;,&lt;/mo&gt;&lt;mn&gt;4&lt;/mn&gt;&lt;mo stretchy=\"false\"&gt;]&lt;/mo&gt;&lt;mo stretchy=\"false\"&gt;)&lt;/mo&gt;&lt;mo&gt;=&lt;/mo&gt;&lt;mn&gt;2&lt;/mn&gt;&lt;mo stretchy=\"false\"&gt;[&lt;/mo&gt;&lt;mn&gt;5&lt;/mn&gt;&lt;mo&gt;,&lt;/mo&gt;&lt;mn&gt;6&lt;/mn&gt;&lt;mo&gt;,&lt;/mo&gt;&lt;mn&gt;7&lt;/mn&gt;&lt;mo stretchy=\"false\"&gt;]&lt;/mo&gt;&lt;mo&gt;=&lt;/mo&gt;&lt;mo stretchy=\"false\"&gt;[&lt;/mo&gt;&lt;mn&gt;10&lt;/mn&gt;&lt;mo&gt;,&lt;/mo&gt;&lt;mn&gt;12&lt;/mn&gt;&lt;mo&gt;,&lt;/mo&gt;&lt;mn&gt;14&lt;/mn&gt;&lt;mo stretchy=\"false\"&gt;]&lt;/mo&gt;&lt;/math&gt;' id=\"MathJax-Element-2-Frame\" role=\"presentation\" style=\"text-align: center; position: relative;\" tabindex=\"0\"><nobr aria-hidden=\"true\"><span class=\"math\" id=\"MathJax-Span-26\" style=\"width: 23.098em; display: inline-block;\"><span style=\"display: inline-block; position: relative; width: 19.229em; height: 0px; font-size: 120%;\"><span style=\"position: absolute; clip: rect(1.253em, 1019.11em, 2.622em, -999.997em); top: -2.199em; left: 0em;\"><span class=\"mrow\" id=\"MathJax-Span-27\"><span class=\"mn\" id=\"MathJax-Span-28\" style=\"font-family: MathJax_Main;\">2</span><span class=\"mo\" id=\"MathJax-Span-29\" style=\"font-family: MathJax_Main;\">(</span><span class=\"mo\" id=\"MathJax-Span-30\" style=\"font-family: MathJax_Main;\">[</span><span class=\"mn\" id=\"MathJax-Span-31\" style=\"font-family: MathJax_Main;\">1</span><span class=\"mo\" id=\"MathJax-Span-32\" style=\"font-family: MathJax_Main;\">,</span><span class=\"mn\" id=\"MathJax-Span-33\" style=\"font-family: MathJax_Main; padding-left: 0.182em;\">2</span><span class=\"mo\" id=\"MathJax-Span-34\" style=\"font-family: MathJax_Main;\">,</span><span class=\"mn\" id=\"MathJax-Span-35\" style=\"font-family: MathJax_Main; padding-left: 0.182em;\">3</span><span class=\"mo\" id=\"MathJax-Span-36\" style=\"font-family: MathJax_Main;\">]</span><span class=\"mo\" id=\"MathJax-Span-37\" style=\"font-family: MathJax_Main; padding-left: 0.241em;\">+</span><span class=\"mo\" id=\"MathJax-Span-38\" style=\"font-family: MathJax_Main; padding-left: 0.241em;\">[</span><span class=\"mn\" id=\"MathJax-Span-39\" style=\"font-family: MathJax_Main;\">4</span><span class=\"mo\" id=\"MathJax-Span-40\" style=\"font-family: MathJax_Main;\">,</span><span class=\"mn\" id=\"MathJax-Span-41\" style=\"font-family: MathJax_Main; padding-left: 0.182em;\">4</span><span class=\"mo\" id=\"MathJax-Span-42\" style=\"font-family: MathJax_Main;\">,</span><span class=\"mn\" id=\"MathJax-Span-43\" style=\"font-family: MathJax_Main; padding-left: 0.182em;\">4</span><span class=\"mo\" id=\"MathJax-Span-44\" style=\"font-family: MathJax_Main;\">]</span><span class=\"mo\" id=\"MathJax-Span-45\" style=\"font-family: MathJax_Main;\">)</span><span class=\"mo\" id=\"MathJax-Span-46\" style=\"font-family: MathJax_Main; padding-left: 0.301em;\">=</span><span class=\"mn\" id=\"MathJax-Span-47\" style=\"font-family: MathJax_Main; padding-left: 0.301em;\">2</span><span class=\"mo\" id=\"MathJax-Span-48\" style=\"font-family: MathJax_Main;\">[</span><span class=\"mn\" id=\"MathJax-Span-49\" style=\"font-family: MathJax_Main;\">5</span><span class=\"mo\" id=\"MathJax-Span-50\" style=\"font-family: MathJax_Main;\">,</span><span class=\"mn\" id=\"MathJax-Span-51\" style=\"font-family: MathJax_Main; padding-left: 0.182em;\">6</span><span class=\"mo\" id=\"MathJax-Span-52\" style=\"font-family: MathJax_Main;\">,</span><span class=\"mn\" id=\"MathJax-Span-53\" style=\"font-family: MathJax_Main; padding-left: 0.182em;\">7</span><span class=\"mo\" id=\"MathJax-Span-54\" style=\"font-family: MathJax_Main;\">]</span><span class=\"mo\" id=\"MathJax-Span-55\" style=\"font-family: MathJax_Main; padding-left: 0.301em;\">=</span><span class=\"mo\" id=\"MathJax-Span-56\" style=\"font-family: MathJax_Main; padding-left: 0.301em;\">[</span><span class=\"mn\" id=\"MathJax-Span-57\" style=\"font-family: MathJax_Main;\">10</span><span class=\"mo\" id=\"MathJax-Span-58\" style=\"font-family: MathJax_Main;\">,</span><span class=\"mn\" id=\"MathJax-Span-59\" style=\"font-family: MathJax_Main; padding-left: 0.182em;\">12</span><span class=\"mo\" id=\"MathJax-Span-60\" style=\"font-family: MathJax_Main;\">,</span><span class=\"mn\" id=\"MathJax-Span-61\" style=\"font-family: MathJax_Main; padding-left: 0.182em;\">14</span><span class=\"mo\" id=\"MathJax-Span-62\" style=\"font-family: MathJax_Main;\">]</span></span><span style=\"display: inline-block; width: 0px; height: 2.205em;\"></span></span></span><span style=\"display: inline-block; overflow: hidden; vertical-align: -0.354em; border-left: 0px solid; width: 0px; height: 1.361em;\"></span></span></nobr><span class=\"MJX_Assistive_MathML MJX_Assistive_MathML_Block\" role=\"presentation\"><math display=\"block\" xmlns=\"http://www.w3.org/1998/Math/MathML\"><mn>2</mn><mo stretchy=\"false\">(</mo><mo stretchy=\"false\">[</mo><mn>1</mn><mo>,</mo><mn>2</mn><mo>,</mo><mn>3</mn><mo stretchy=\"false\">]</mo><mo>+</mo><mo stretchy=\"false\">[</mo><mn>4</mn><mo>,</mo><mn>4</mn><mo>,</mo><mn>4</mn><mo stretchy=\"false\">]</mo><mo stretchy=\"false\">)</mo><mo>=</mo><mn>2</mn><mo stretchy=\"false\">[</mo><mn>5</mn><mo>,</mo><mn>6</mn><mo>,</mo><mn>7</mn><mo stretchy=\"false\">]</mo><mo>=</mo><mo stretchy=\"false\">[</mo><mn>10</mn><mo>,</mo><mn>12</mn><mo>,</mo><mn>14</mn><mo stretchy=\"false\">]</mo></math></span></span></div><script id=\"MathJax-Element-2\" type=\"math/tex; mode=display\">2([1,2,3] + [4, 4, 4]) = 2[5, 6, 7] = [10, 12, 14]</script>\n"
   ]
  },
  {
   "cell_type": "code",
   "execution_count": 32,
   "metadata": {},
   "outputs": [
    {
     "data": {
      "text/plain": [
       "[10, 12, 14]"
      ]
     },
     "execution_count": 32,
     "metadata": {},
     "output_type": "execute_result"
    }
   ],
   "source": [
    "\n",
    "u=[1,2,3] #리스트를 생성한다. \n",
    "v=[4,4,4] #리스트를 생성한다. \n",
    "\n",
    "alpha=2 #변수에 2를 대입한다.\n",
    "\n",
    "result=[alpha*sum(t) for t in zip(u,v)] #u와 v의 각 자리들을 튜플로 지정한 후 t에 대입하고 t의 합과 alpha변수와 곱한 것을 result에 대입한다.\n",
    "result #결과값을 본다.\n",
    "\n"
   ]
  },
  {
   "cell_type": "markdown",
   "metadata": {},
   "source": [
    "\n",
    "<h3 id=\"4.2.-파이썬-스타일코드로-표현한-행렬\">4.2. 파이썬 스타일코드로 표현한 행렬<a class=\"anchor-link\" href=\"https://eclass2.ajou.ac.kr/bbcswebdav/pid-660606-dt-content-rid-9403730_1/courses/2020U00020032020084481/Python_exercise2.html#4.2.-%ED%8C%8C%EC%9D%B4%EC%8D%AC-%EC%8A%A4%ED%83%80%EC%9D%BC%EC%BD%94%EB%93%9C%EB%A1%9C-%ED%91%9C%ED%98%84%ED%95%9C-%ED%96%89%EB%A0%AC\">¶</a></h3><ul>\n",
    "<li>딕셔너리로 표현하는 경우 좌표정보나 이름정보를 넣을 수 있으나 복잡함</li>\n",
    "</ul>\n"
   ]
  },
  {
   "cell_type": "code",
   "execution_count": 34,
   "metadata": {},
   "outputs": [],
   "source": [
    "\n",
    "matrix_a=[[3,6], [4,5]] #리스트로 표현한 경우\n",
    "matrix_b=[(3,6), (4,5)] #튜플로 표현한 경우\n",
    "matrix_c={(0,0):3, (0,1):6, (1,0):4, (1,1):5}  #디셔너리로 표현한경우\n",
    "\n"
   ]
  },
  {
   "cell_type": "markdown",
   "metadata": {},
   "source": [
    "\n",
    "<ul>\n",
    "<li>행렬의 연산: 행렬의 elemnet-wise 합</li>\n",
    "</ul>\n"
   ]
  },
  {
   "cell_type": "code",
   "execution_count": 41,
   "metadata": {},
   "outputs": [
    {
     "name": "stdout",
     "output_type": "stream",
     "text": [
      "[[8, 14], [10, 12]]\n"
     ]
    }
   ],
   "source": [
    "\n",
    "matrix_a=[[3,6], [4,5]] #1행 2열 행렬을 생성한다.\n",
    "matrix_b=[[5,8], [6,7]] #1행 2열 행렬을 생성한다.\n",
    "\n",
    "result=[[sum(row) for row in zip(*t)] for t in zip(matrix_a, matrix_b)] # 위 행렬의 첫번째 리스트, 두번째 리스트들을 튜플로 묶어준 후\n",
    "#t에 대입한 후 또 그 리스트안에서 각 요소들끼리 더한 값들을 result에 삽입한다.\n",
    "print(result)\n",
    "\n"
   ]
  },
  {
   "cell_type": "markdown",
   "metadata": {},
   "source": [
    "\n",
    "<h1 id=\"일반문제\">일반문제<a class=\"anchor-link\" href=\"https://eclass2.ajou.ac.kr/bbcswebdav/pid-660606-dt-content-rid-9403730_1/courses/2020U00020032020084481/Python_exercise2.html#%EC%9D%BC%EB%B0%98%EB%AC%B8%EC%A0%9C\">¶</a></h1><hr/>\n"
   ]
  },
  {
   "cell_type": "markdown",
   "metadata": {},
   "source": [
    "\n",
    "<h2 id=\"주민등록번호로-성별-찾기-with-map\">주민등록번호로 성별 찾기 with <code>map</code><a class=\"anchor-link\" href=\"https://eclass2.ajou.ac.kr/bbcswebdav/pid-660606-dt-content-rid-9403730_1/courses/2020U00020032020084481/Python_exercise2.html#%EC%A3%BC%EB%AF%BC%EB%93%B1%EB%A1%9D%EB%B2%88%ED%98%B8%EB%A1%9C-%EC%84%B1%EB%B3%84-%EC%B0%BE%EA%B8%B0-with-map\">¶</a></h2><p>PR6에서 <code>split</code>을 활용하여 주민등록번호 뒷자리의 맨 첫 번째 숫자를 추출하여 성별을 알아내는 과정을 구현하였다. 이번에는 여러개의 요소를 가지는 다음과 같은 리스트에서 성별을 찾는 과정을 맵리듀스를 이용해 간단하게 구현해보자.</p>\n",
    "<div class=\"highlight\"><pre><span></span><span class=\"n\">pins</span> <span class=\"o\">=</span> <span class=\"p\">[</span><span class=\"s2\">\"891120-1234567\"</span><span class=\"p\">,</span> <span class=\"s2\">\"931120-2335567\"</span><span class=\"p\">,</span> <span class=\"s2\">\"911120-1234234\"</span><span class=\"p\">,</span> <span class=\"s2\">\"951120-1234567\"</span><span class=\"p\">]</span>\n",
    "</pre></div>\n",
    "<blockquote><p><strong><em>Q</em></strong>: <code>lambda</code>와 <code>map</code>을 사용하여 위의 리스트에서 출력결과 예시와 같이 성별을 나타내는 값을 추출하시오.</p>\n",
    "</blockquote>\n",
    "<h3 id=\"출력결과-예시\">출력결과 예시<a class=\"anchor-link\" href=\"https://eclass2.ajou.ac.kr/bbcswebdav/pid-660606-dt-content-rid-9403730_1/courses/2020U00020032020084481/Python_exercise2.html#%EC%B6%9C%EB%A0%A5%EA%B2%B0%EA%B3%BC-%EC%98%88%EC%8B%9C\">¶</a></h3><div class=\"highlight\"><pre><span></span><span class=\"c1\">## CODE</span>\n",
    "\n",
    "<span class=\"c1\">## ['1', '2', '1', '1']</span>\n",
    "</pre></div>\n",
    "<h3 id=\"HINT\">HINT<a class=\"anchor-link\" href=\"https://eclass2.ajou.ac.kr/bbcswebdav/pid-660606-dt-content-rid-9403730_1/courses/2020U00020032020084481/Python_exercise2.html#HINT\">¶</a></h3><ol>\n",
    "<li><code>lambda</code> 함수로 주민등록번호 문자열에서 성별을 추출하는 과정을 구현한다.</li>\n",
    "<li><code>map</code> 함수에 해당 <code>lambda</code>함수와 주민등록번호 리스트를 입력한다.</li>\n",
    "<li><strong>실습코드 2.1.</strong>에서 <code>map</code> 과 <code>lambda</code>를 어떻게 함께 사용하는지와 결과를 list로 출력하는 과정을 참고하세요.   </li>\n",
    "</ol>\n"
   ]
  },
  {
   "cell_type": "code",
   "execution_count": 45,
   "metadata": {},
   "outputs": [
    {
     "data": {
      "text/plain": [
       "['1', '2', '1', '1']"
      ]
     },
     "execution_count": 45,
     "metadata": {},
     "output_type": "execute_result"
    }
   ],
   "source": [
    "\n",
    "pins = [\"891120-1234567\", \"931120-2335567\", \"911120-1234234\", \"951120-1234567\"] #pins 변수에 주민등록번호를 삽입한다.\n",
    "\n",
    "\n",
    "list(map(lambda x: x.split(\"-\")[1][0], pins)) #pins 변수에 있는 것들을 -을 기준으로 나눈 후 뒤쪽에 있는 7자리 문자열에서\n",
    "#첫번째 요소를 가져오는 스플릿함수를 적용하는 map 함수를 적용하고 list를 사용함으로써 리스트로 만든다.\n",
    "\n"
   ]
  },
  {
   "cell_type": "markdown",
   "metadata": {},
   "source": [
    "\n",
    "<h1 id=\"도전문제\">도전문제<a class=\"anchor-link\" href=\"https://eclass2.ajou.ac.kr/bbcswebdav/pid-660606-dt-content-rid-9403730_1/courses/2020U00020032020084481/Python_exercise2.html#%EB%8F%84%EC%A0%84%EB%AC%B8%EC%A0%9C\">¶</a></h1><hr/>\n"
   ]
  },
  {
   "cell_type": "markdown",
   "metadata": {},
   "source": [
    "\n",
    "<h2 id=\"벡터의-내적\">벡터의 내적<a class=\"anchor-link\" href=\"https://eclass2.ajou.ac.kr/bbcswebdav/pid-660606-dt-content-rid-9403730_1/courses/2020U00020032020084481/Python_exercise2.html#%EB%B2%A1%ED%84%B0%EC%9D%98-%EB%82%B4%EC%A0%81\">¶</a></h2><p>크기가 같은 두 벡터의 내적은 벡터의 각 성분별 곱한 값을 더해준 값이다.</p>\n",
    "<p><span class=\"MathJax_Preview\" style=\"color: inherit; display: none;\"></span></p><div class=\"MathJax_Display\" style=\"text-align: center;\"><span class=\"MathJax\" data-mathml='&lt;math xmlns=\"http://www.w3.org/1998/Math/MathML\" display=\"block\"&gt;&lt;msub&gt;&lt;mi&gt;v&lt;/mi&gt;&lt;mn&gt;1&lt;/mn&gt;&lt;/msub&gt;&lt;mo&gt;&amp;#x2217;&lt;/mo&gt;&lt;msub&gt;&lt;mi&gt;w&lt;/mi&gt;&lt;mn&gt;1&lt;/mn&gt;&lt;/msub&gt;&lt;mo&gt;+&lt;/mo&gt;&lt;mo&gt;&amp;#x22EF;&lt;/mo&gt;&lt;mo&gt;+&lt;/mo&gt;&lt;msub&gt;&lt;mi&gt;v&lt;/mi&gt;&lt;mi&gt;n&lt;/mi&gt;&lt;/msub&gt;&lt;mo&gt;&amp;#x2217;&lt;/mo&gt;&lt;msub&gt;&lt;mi&gt;w&lt;/mi&gt;&lt;mi&gt;n&lt;/mi&gt;&lt;/msub&gt;&lt;/math&gt;' id=\"MathJax-Element-3-Frame\" role=\"presentation\" style=\"text-align: center; position: relative;\" tabindex=\"0\"><nobr aria-hidden=\"true\"><span class=\"math\" id=\"MathJax-Span-63\" style=\"width: 11.908em; display: inline-block;\"><span style=\"display: inline-block; position: relative; width: 9.884em; height: 0px; font-size: 120%;\"><span style=\"position: absolute; clip: rect(1.432em, 1009.88em, 2.562em, -999.997em); top: -2.199em; left: 0em;\"><span class=\"mrow\" id=\"MathJax-Span-64\"><span class=\"msubsup\" id=\"MathJax-Span-65\"><span style=\"display: inline-block; position: relative; width: 0.896em; height: 0px;\"><span style=\"position: absolute; clip: rect(3.396em, 1000.48em, 4.17em, -999.997em); top: -3.985em; left: 0em;\"><span class=\"mi\" id=\"MathJax-Span-66\" style=\"font-family: MathJax_Math-italic;\">v</span><span style=\"display: inline-block; width: 0px; height: 3.991em;\"></span></span><span style=\"position: absolute; top: -3.807em; left: 0.479em;\"><span class=\"mn\" id=\"MathJax-Span-67\" style=\"font-size: 70.7%; font-family: MathJax_Main;\">1</span><span style=\"display: inline-block; width: 0px; height: 3.991em;\"></span></span></span></span><span class=\"mo\" id=\"MathJax-Span-68\" style=\"font-family: MathJax_Main; padding-left: 0.241em;\">∗</span><span class=\"msubsup\" id=\"MathJax-Span-69\" style=\"padding-left: 0.241em;\"><span style=\"display: inline-block; position: relative; width: 1.134em; height: 0px;\"><span style=\"position: absolute; clip: rect(3.396em, 1000.72em, 4.17em, -999.997em); top: -3.985em; left: 0em;\"><span class=\"mi\" id=\"MathJax-Span-70\" style=\"font-family: MathJax_Math-italic;\">w</span><span style=\"display: inline-block; width: 0px; height: 3.991em;\"></span></span><span style=\"position: absolute; top: -3.807em; left: 0.717em;\"><span class=\"mn\" id=\"MathJax-Span-71\" style=\"font-size: 70.7%; font-family: MathJax_Main;\">1</span><span style=\"display: inline-block; width: 0px; height: 3.991em;\"></span></span></span></span><span class=\"mo\" id=\"MathJax-Span-72\" style=\"font-family: MathJax_Main; padding-left: 0.241em;\">+</span><span class=\"mo\" id=\"MathJax-Span-73\" style=\"font-family: MathJax_Main; padding-left: 0.241em;\">⋯</span><span class=\"mo\" id=\"MathJax-Span-74\" style=\"font-family: MathJax_Main; padding-left: 0.241em;\">+</span><span class=\"msubsup\" id=\"MathJax-Span-75\" style=\"padding-left: 0.241em;\"><span style=\"display: inline-block; position: relative; width: 1.015em; height: 0px;\"><span style=\"position: absolute; clip: rect(3.396em, 1000.48em, 4.17em, -999.997em); top: -3.985em; left: 0em;\"><span class=\"mi\" id=\"MathJax-Span-76\" style=\"font-family: MathJax_Math-italic;\">v</span><span style=\"display: inline-block; width: 0px; height: 3.991em;\"></span></span><span style=\"position: absolute; top: -3.807em; left: 0.479em;\"><span class=\"mi\" id=\"MathJax-Span-77\" style=\"font-size: 70.7%; font-family: MathJax_Math-italic;\">n</span><span style=\"display: inline-block; width: 0px; height: 3.991em;\"></span></span></span></span><span class=\"mo\" id=\"MathJax-Span-78\" style=\"font-family: MathJax_Main; padding-left: 0.241em;\">∗</span><span class=\"msubsup\" id=\"MathJax-Span-79\" style=\"padding-left: 0.241em;\"><span style=\"display: inline-block; position: relative; width: 1.193em; height: 0px;\"><span style=\"position: absolute; clip: rect(3.396em, 1000.72em, 4.17em, -999.997em); top: -3.985em; left: 0em;\"><span class=\"mi\" id=\"MathJax-Span-80\" style=\"font-family: MathJax_Math-italic;\">w</span><span style=\"display: inline-block; width: 0px; height: 3.991em;\"></span></span><span style=\"position: absolute; top: -3.807em; left: 0.717em;\"><span class=\"mi\" id=\"MathJax-Span-81\" style=\"font-size: 70.7%; font-family: MathJax_Math-italic;\">n</span><span style=\"display: inline-block; width: 0px; height: 3.991em;\"></span></span></span></span></span><span style=\"display: inline-block; width: 0px; height: 2.205em;\"></span></span></span><span style=\"display: inline-block; overflow: hidden; vertical-align: -0.282em; border-left: 0px solid; width: 0px; height: 1.004em;\"></span></span></nobr><span class=\"MJX_Assistive_MathML MJX_Assistive_MathML_Block\" role=\"presentation\"><math display=\"block\" xmlns=\"http://www.w3.org/1998/Math/MathML\"><msub><mi>v</mi><mn>1</mn></msub><mo>∗</mo><msub><mi>w</mi><mn>1</mn></msub><mo>+</mo><mo>⋯</mo><mo>+</mo><msub><mi>v</mi><mi>n</mi></msub><mo>∗</mo><msub><mi>w</mi><mi>n</mi></msub></math></span></span></div><script id=\"MathJax-Element-3\" type=\"math/tex; mode=display\">v_1 * w_1 + \\cdots + v_n * w_n</script>\n",
    "<blockquote><p><strong><em>Q</em></strong>: 크기가 같은 두 벡터 (list 형태)를 받으면 이를 내적한 값을 도출하는 함수 <code>dot</code>을 구현하고, 이를 활용하여 <code>a=[1, 2]</code>, <code>b=[3,4]</code>를 내적한 값을 구하시오.</p>\n",
    "</blockquote>\n",
    "<h3 id=\"HINT\">HINT<a class=\"anchor-link\" href=\"https://eclass2.ajou.ac.kr/bbcswebdav/pid-660606-dt-content-rid-9403730_1/courses/2020U00020032020084481/Python_exercise2.html#HINT\">¶</a></h3><ol>\n",
    "<li><strong>실습코드 4.1.</strong>에서는 벡터의 합과 곱에 대한 연산만을 다루고 있습니다. 이중 <strong>간단한 벡터의 합</strong>에서 리스트 컴프리헨션을 사용한 방법에서 연산을 바꾸면 각 벡터별 곱을 간단히 구할 수 있습니다.      </li>\n",
    "</ol>\n"
   ]
  },
  {
   "cell_type": "code",
   "execution_count": 47,
   "metadata": {},
   "outputs": [
    {
     "data": {
      "text/plain": [
       "11"
      ]
     },
     "execution_count": 47,
     "metadata": {},
     "output_type": "execute_result"
    }
   ],
   "source": [
    "\n",
    "a = [1, 2] #리스트를 생성한다.\n",
    "b = [3, 4] #리스트를 생성한다.\n",
    "\n",
    "dot = lambda a,b : sum([x*y for x, y in zip(a, b)]) #a와 b에 있는 리스트들의 각 요소를 튜플로 만들고 각 자리에 있는 것들끼리 곱한 후\n",
    "#만들어진 튜플 안에 있는 값들을 더한다.\n",
    "\n",
    "dot(a,b)\n",
    "\n"
   ]
  }
 ],
 "metadata": {
  "kernelspec": {
   "display_name": "Python 3",
   "language": "python",
   "name": "python3"
  },
  "language_info": {
   "codemirror_mode": {
    "name": "ipython",
    "version": 3
   },
   "file_extension": ".py",
   "mimetype": "text/x-python",
   "name": "python",
   "nbconvert_exporter": "python",
   "pygments_lexer": "ipython3",
   "version": "3.7.6"
  },
  "toc": {
   "base_numbering": 1,
   "nav_menu": {},
   "number_sections": true,
   "sideBar": true,
   "skip_h1_title": false,
   "title_cell": "Table of Contents",
   "title_sidebar": "Contents",
   "toc_cell": false,
   "toc_position": {},
   "toc_section_display": true,
   "toc_window_display": false
  },
  "varInspector": {
   "cols": {
    "lenName": 16,
    "lenType": 16,
    "lenVar": 40
   },
   "kernels_config": {
    "python": {
     "delete_cmd_postfix": "",
     "delete_cmd_prefix": "del ",
     "library": "var_list.py",
     "varRefreshCmd": "print(var_dic_list())"
    },
    "r": {
     "delete_cmd_postfix": ") ",
     "delete_cmd_prefix": "rm(",
     "library": "var_list.r",
     "varRefreshCmd": "cat(var_dic_list()) "
    }
   },
   "types_to_exclude": [
    "module",
    "function",
    "builtin_function_or_method",
    "instance",
    "_Feature"
   ],
   "window_display": false
  }
 },
 "nbformat": 4,
 "nbformat_minor": 1
}
